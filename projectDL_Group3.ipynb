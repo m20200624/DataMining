{
 "cells": [
  {
   "cell_type": "markdown",
   "id": "hired-volume",
   "metadata": {},
   "source": [
    "<center><h1 style='color: #B03A2E; font-size: 50px'>Deep Learning</h1>\n",
    "<h2 style='color: #B03A2E; font-size: 20px'>PAINTING’S STYLE RECOGNITION </h2></center>"
   ]
  },
  {
   "cell_type": "markdown",
   "id": "different-ceramic",
   "metadata": {},
   "source": [
    "<center><h1 style='color: #000000; font-size: 15px'>Ana Carrelha m20200631</h1>\n",
    "<h1 style='color: #000000; font-size: 15px'>Inês Melo m20200624</h1>\n",
    "<h1 style='color: #000000; font-size: 15px'>Inês Roque m20200644</h1><enter>"
   ]
  },
  {
   "cell_type": "code",
   "execution_count": 134,
   "id": "improving-victoria",
   "metadata": {},
   "outputs": [],
   "source": [
    "import pandas as pd\n",
    "import numpy as np\n",
    "from keras import optimizers\n",
    "from keras import layers, models \n",
    "from keras.layers import Dropout, Flatten, Dense, Conv2D, MaxPooling2D\n",
    "from keras.preprocessing.image import ImageDataGenerator, img_to_array, load_img  \n",
    "from keras.models import Sequential  \n",
    "from keras import applications  \n",
    "from keras.utils.np_utils import to_categorical  \n",
    "import matplotlib.pyplot as plt  \n",
    "import matplotlib.image as mpimg\n",
    "%matplotlib inline\n",
    "import math\n",
    "import datetime\n",
    "from sklearn.metrics import classification_report, confusion_matrix, accuracy_score\n",
    "import seaborn as sn"
   ]
  },
  {
   "cell_type": "code",
   "execution_count": 3,
   "id": "grateful-plane",
   "metadata": {},
   "outputs": [],
   "source": [
    "import PIL\n",
    "from PIL import Image\n",
    "PIL.Image.MAX_IMAGE_PIXELS = 933120000"
   ]
  },
  {
   "cell_type": "code",
   "execution_count": 4,
   "id": "olympic-secretariat",
   "metadata": {},
   "outputs": [],
   "source": [
    "from PIL import ImageFile\n",
    "ImageFile.LOAD_TRUNCATED_IMAGES = True"
   ]
  },
  {
   "cell_type": "markdown",
   "id": "designing-geneva",
   "metadata": {},
   "source": [
    "Directories with the data set"
   ]
  },
  {
   "cell_type": "code",
   "execution_count": 2,
   "id": "wrapped-minneapolis",
   "metadata": {},
   "outputs": [],
   "source": [
    "train_data_dir = 'data/train'  \n",
    "validation_data_dir = 'data/valid' \n",
    "test_data_dir= 'data/test'"
   ]
  },
  {
   "cell_type": "markdown",
   "id": "helpful-court",
   "metadata": {},
   "source": [
    "### BUILDING THE GENERAL STRUCTURED NETWORK"
   ]
  },
  {
   "cell_type": "code",
   "execution_count": 10,
   "id": "infrared-speech",
   "metadata": {},
   "outputs": [
    {
     "name": "stdout",
     "output_type": "stream",
     "text": [
      "Model: \"sequential_1\"\n",
      "_________________________________________________________________\n",
      "Layer (type)                 Output Shape              Param #   \n",
      "=================================================================\n",
      "conv2d_4 (Conv2D)            (None, 148, 148, 32)      896       \n",
      "_________________________________________________________________\n",
      "max_pooling2d_4 (MaxPooling2 (None, 74, 74, 32)        0         \n",
      "_________________________________________________________________\n",
      "conv2d_5 (Conv2D)            (None, 72, 72, 64)        18496     \n",
      "_________________________________________________________________\n",
      "max_pooling2d_5 (MaxPooling2 (None, 36, 36, 64)        0         \n",
      "_________________________________________________________________\n",
      "conv2d_6 (Conv2D)            (None, 34, 34, 128)       73856     \n",
      "_________________________________________________________________\n",
      "max_pooling2d_6 (MaxPooling2 (None, 17, 17, 128)       0         \n",
      "_________________________________________________________________\n",
      "conv2d_7 (Conv2D)            (None, 15, 15, 128)       147584    \n",
      "_________________________________________________________________\n",
      "max_pooling2d_7 (MaxPooling2 (None, 7, 7, 128)         0         \n",
      "_________________________________________________________________\n",
      "flatten_1 (Flatten)          (None, 6272)              0         \n",
      "_________________________________________________________________\n",
      "dense_2 (Dense)              (None, 512)               3211776   \n",
      "_________________________________________________________________\n",
      "dense_3 (Dense)              (None, 4)                 2052      \n",
      "=================================================================\n",
      "Total params: 3,454,660\n",
      "Trainable params: 3,454,660\n",
      "Non-trainable params: 0\n",
      "_________________________________________________________________\n"
     ]
    }
   ],
   "source": [
    "model = models.Sequential()\n",
    "model.add(layers.Conv2D(32, (3, 3), activation='relu', input_shape = (150, 150, 3)))\n",
    "model.add(layers.MaxPooling2D((2, 2)))\n",
    "\n",
    "model.add(layers.Conv2D(64, (3, 3), activation='relu'))\n",
    "model.add(layers.MaxPooling2D((2, 2)))\n",
    "model.add(layers.Conv2D(128, (3, 3), activation='relu'))\n",
    "model.add(layers.MaxPooling2D((2, 2)))\n",
    "model.add(layers.Conv2D(128, (3, 3), activation='relu'))\n",
    "model.add(layers.MaxPooling2D((2, 2)))\n",
    "model.add(layers.Flatten()) \n",
    "model.add(layers.Dense(512, activation='relu'))\n",
    "model.add(layers.Dense(4, activation='softmax'))\n",
    "\n",
    "model.summary()"
   ]
  },
  {
   "cell_type": "markdown",
   "id": "tired-guest",
   "metadata": {},
   "source": [
    "### TRAINING THE MODEL"
   ]
  },
  {
   "cell_type": "code",
   "execution_count": 11,
   "id": "homeless-account",
   "metadata": {},
   "outputs": [],
   "source": [
    "model.compile(loss='categorical_crossentropy', \n",
    "               optimizer=optimizers.RMSprop(lr=1e-4),\n",
    "               metrics=['acc'])"
   ]
  },
  {
   "cell_type": "markdown",
   "id": "straight-brunswick",
   "metadata": {},
   "source": [
    "### DATA PREPROCESSING"
   ]
  },
  {
   "cell_type": "code",
   "execution_count": 12,
   "id": "integrated-breathing",
   "metadata": {},
   "outputs": [
    {
     "name": "stdout",
     "output_type": "stream",
     "text": [
      "Found 24698 images belonging to 4 classes.\n",
      "Found 4000 images belonging to 4 classes.\n",
      "data batch shape: (246, 150, 150, 3)\n",
      "labels batch shape: (246, 4)\n"
     ]
    }
   ],
   "source": [
    "\n",
    "train_datagen = ImageDataGenerator(rescale=1./255)\n",
    "test_datagen = ImageDataGenerator(rescale=1./255)\n",
    "\n",
    "train_generator = train_datagen.flow_from_directory(\n",
    "    train_data_dir,                     \n",
    "    target_size=(150,150),         \n",
    "    batch_size = 246,                               \n",
    "    class_mode='categorical'            \n",
    "    )                             \n",
    "\n",
    "\n",
    "validation_generator = test_datagen.flow_from_directory(\n",
    "    validation_data_dir,                \n",
    "    target_size=(150,150),         \n",
    "    batch_size = 246, \n",
    "    class_mode='categorical'             \n",
    "    )   \n",
    "\n",
    "for data_batch, labels_batch in train_generator: \n",
    "    print('data batch shape:', data_batch.shape)\n",
    "    print('labels batch shape:', labels_batch.shape)\n",
    "    break"
   ]
  },
  {
   "cell_type": "markdown",
   "id": "civilian-david",
   "metadata": {},
   "source": [
    "### MODEL FITTING WITH BATCH GENERATOR"
   ]
  },
  {
   "cell_type": "code",
   "execution_count": 13,
   "id": "appreciated-agency",
   "metadata": {},
   "outputs": [
    {
     "name": "stdout",
     "output_type": "stream",
     "text": [
      "Epoch 1/30\n",
      "101/101 [==============================] - 910s 9s/step - loss: 1.3230 - acc: 0.3623 - val_loss: 1.3102 - val_acc: 0.3470\n",
      "Epoch 2/30\n",
      "101/101 [==============================] - 904s 9s/step - loss: 1.2535 - acc: 0.4170 - val_loss: 1.2280 - val_acc: 0.4390\n",
      "Epoch 3/30\n",
      "101/101 [==============================] - 905s 9s/step - loss: 1.2167 - acc: 0.4431 - val_loss: 1.1908 - val_acc: 0.4615\n",
      "Epoch 4/30\n",
      "101/101 [==============================] - 900s 9s/step - loss: 1.1907 - acc: 0.4595 - val_loss: 1.1827 - val_acc: 0.4742\n",
      "Epoch 5/30\n",
      "101/101 [==============================] - 904s 9s/step - loss: 1.1660 - acc: 0.4770 - val_loss: 1.1600 - val_acc: 0.4745\n",
      "Epoch 6/30\n",
      "101/101 [==============================] - 901s 9s/step - loss: 1.1488 - acc: 0.4900 - val_loss: 1.1916 - val_acc: 0.4392\n",
      "Epoch 7/30\n",
      "101/101 [==============================] - 901s 9s/step - loss: 1.1292 - acc: 0.5028 - val_loss: 1.1288 - val_acc: 0.5025\n",
      "Epoch 8/30\n",
      "101/101 [==============================] - 904s 9s/step - loss: 1.1126 - acc: 0.5124 - val_loss: 1.1042 - val_acc: 0.5215\n",
      "Epoch 9/30\n",
      "101/101 [==============================] - 903s 9s/step - loss: 1.0979 - acc: 0.5226 - val_loss: 1.1352 - val_acc: 0.4955\n",
      "Epoch 10/30\n",
      "101/101 [==============================] - 902s 9s/step - loss: 1.0816 - acc: 0.5304 - val_loss: 1.1054 - val_acc: 0.5232\n",
      "Epoch 11/30\n",
      "101/101 [==============================] - 902s 9s/step - loss: 1.0672 - acc: 0.5377 - val_loss: 1.1869 - val_acc: 0.4705\n",
      "Epoch 12/30\n",
      "101/101 [==============================] - 900s 9s/step - loss: 1.0510 - acc: 0.5487 - val_loss: 1.1464 - val_acc: 0.4897\n",
      "Epoch 13/30\n",
      "101/101 [==============================] - 902s 9s/step - loss: 1.0381 - acc: 0.5581 - val_loss: 1.0707 - val_acc: 0.5422\n",
      "Epoch 14/30\n",
      "101/101 [==============================] - 903s 9s/step - loss: 1.0270 - acc: 0.5607 - val_loss: 1.2396 - val_acc: 0.4557\n",
      "Epoch 15/30\n",
      "101/101 [==============================] - 908s 9s/step - loss: 1.0121 - acc: 0.5720 - val_loss: 1.0804 - val_acc: 0.5355\n",
      "Epoch 16/30\n",
      "101/101 [==============================] - 901s 9s/step - loss: 0.9991 - acc: 0.5792 - val_loss: 1.0598 - val_acc: 0.5468\n",
      "Epoch 17/30\n",
      "101/101 [==============================] - 908s 9s/step - loss: 0.9855 - acc: 0.5824 - val_loss: 1.0648 - val_acc: 0.5445\n",
      "Epoch 18/30\n",
      "101/101 [==============================] - 901s 9s/step - loss: 0.9685 - acc: 0.5929 - val_loss: 1.2194 - val_acc: 0.4840\n",
      "Epoch 19/30\n",
      "101/101 [==============================] - 905s 9s/step - loss: 0.9529 - acc: 0.6019 - val_loss: 1.2422 - val_acc: 0.4865\n",
      "Epoch 20/30\n",
      "101/101 [==============================] - 904s 9s/step - loss: 0.9428 - acc: 0.6065 - val_loss: 1.0723 - val_acc: 0.5403\n",
      "Epoch 21/30\n",
      "101/101 [==============================] - 902s 9s/step - loss: 0.9247 - acc: 0.6161 - val_loss: 1.0757 - val_acc: 0.5387\n",
      "Epoch 22/30\n",
      "101/101 [==============================] - 904s 9s/step - loss: 0.9143 - acc: 0.6238 - val_loss: 1.1395 - val_acc: 0.5255\n",
      "Epoch 23/30\n",
      "101/101 [==============================] - 905s 9s/step - loss: 0.8919 - acc: 0.6339 - val_loss: 1.0656 - val_acc: 0.5520\n",
      "Epoch 24/30\n",
      "101/101 [==============================] - 899s 9s/step - loss: 0.8778 - acc: 0.6408 - val_loss: 1.0777 - val_acc: 0.5397\n",
      "Epoch 25/30\n",
      "101/101 [==============================] - 900s 9s/step - loss: 0.8578 - acc: 0.6522 - val_loss: 1.0584 - val_acc: 0.5548\n",
      "Epoch 26/30\n",
      "101/101 [==============================] - 903s 9s/step - loss: 0.8416 - acc: 0.6594 - val_loss: 1.0673 - val_acc: 0.5527\n",
      "Epoch 27/30\n",
      "101/101 [==============================] - 904s 9s/step - loss: 0.8225 - acc: 0.6678 - val_loss: 1.1063 - val_acc: 0.5385\n",
      "Epoch 28/30\n",
      "101/101 [==============================] - 901s 9s/step - loss: 0.8074 - acc: 0.6750 - val_loss: 1.1217 - val_acc: 0.5280\n",
      "Epoch 29/30\n",
      "101/101 [==============================] - 900s 9s/step - loss: 0.7858 - acc: 0.6834 - val_loss: 1.2232 - val_acc: 0.4963\n",
      "Epoch 30/30\n",
      "101/101 [==============================] - 907s 9s/step - loss: 0.7639 - acc: 0.6957 - val_loss: 1.2045 - val_acc: 0.5238\n"
     ]
    }
   ],
   "source": [
    "\n",
    "history = model.fit(\n",
    "    train_generator,   \n",
    "    epochs = 30, \n",
    "    validation_data = validation_generator, \n",
    "    )\n",
    "\n",
    "model.save('paintings1.h5')"
   ]
  },
  {
   "cell_type": "markdown",
   "id": "registered-ancient",
   "metadata": {},
   "source": [
    "### Curves of loss and accuracy during training"
   ]
  },
  {
   "cell_type": "code",
   "execution_count": 14,
   "id": "civic-patio",
   "metadata": {},
   "outputs": [
    {
     "data": {
      "image/png": "[encoded data removed]",
      "text/plain": [
       "<Figure size 432x288 with 1 Axes>"
      ]
     },
     "metadata": {
      "needs_background": "light"
     },
     "output_type": "display_data"
    },
    {
     "data": {
      "image/png": "[encoded data removed]",
      "text/plain": [
       "<Figure size 432x288 with 1 Axes>"
      ]
     },
     "metadata": {
      "needs_background": "light"
     },
     "output_type": "display_data"
    }
   ],
   "source": [
    "import matplotlib.pyplot as plt\n",
    "\n",
    "acc = history.history['acc']\n",
    "val_acc = history.history['val_acc']\n",
    "loss = history.history['loss']\n",
    "val_loss = history.history['val_loss']\n",
    "\n",
    "epochs = range(1, len(acc) + 1)\n",
    "\n",
    "plt.plot(epochs, acc, 'bo', label = 'Training acc')\n",
    "plt.plot(epochs, val_acc, 'b', label = 'Validation acc')\n",
    "plt.title('Training and validation accuracy')\n",
    "plt.legend()\n",
    "plt.figure()\n",
    "\n",
    "plt.plot(epochs, loss, 'bo', label = 'Training loss')\n",
    "plt.plot(epochs, val_loss, 'b', label = 'Validation loss')\n",
    "plt.title('Training and validation loss')\n",
    "plt.legend()\n",
    "\n",
    "plt.show()"
   ]
  },
  {
   "cell_type": "markdown",
   "id": "humanitarian-bumper",
   "metadata": {},
   "source": [
    "### DEFINING A NEW CONVNET THAT INCLUDES DROPOUT"
   ]
  },
  {
   "cell_type": "code",
   "execution_count": 22,
   "id": "north-airport",
   "metadata": {},
   "outputs": [],
   "source": [
    "model = models.Sequential()\n",
    "model.add(layers.Conv2D(32, (3, 3), activation='relu', input_shape = (150, 150, 3)))\n",
    "model.add(layers.MaxPooling2D((2, 2)))\n",
    "model.add(layers.Conv2D(64, (3, 3), activation='relu'))\n",
    "model.add(layers.MaxPooling2D((2, 2)))\n",
    "model.add(layers.Conv2D(128, (3, 3), activation='relu'))\n",
    "model.add(layers.MaxPooling2D((2, 2)))\n",
    "model.add(layers.Conv2D(128, (3, 3), activation='relu'))\n",
    "model.add(layers.MaxPooling2D((2, 2)))\n",
    "model.add(layers.Flatten()) \n",
    "model.add(layers.Dropout(0.5))\n",
    "model.add(layers.Dense(512, activation='relu'))\n",
    "model.add(layers.Dense(4, activation='softmax'))\n",
    "\n",
    "model.compile(loss='categorical_crossentropy', \n",
    "               optimizer=optimizers.RMSprop(lr=1e-4),\n",
    "               metrics=['acc'])"
   ]
  },
  {
   "cell_type": "markdown",
   "id": "cathedral-commonwealth",
   "metadata": {},
   "source": [
    "#### Training the convnet using data-augmentation generators"
   ]
  },
  {
   "cell_type": "code",
   "execution_count": 23,
   "id": "about-designer",
   "metadata": {},
   "outputs": [
    {
     "name": "stdout",
     "output_type": "stream",
     "text": [
      "Found 24698 images belonging to 4 classes.\n",
      "Found 4000 images belonging to 4 classes.\n"
     ]
    }
   ],
   "source": [
    "train_datagen = ImageDataGenerator(\n",
    "    rescale=1./255, \n",
    "    rotation_range=40,\n",
    "    width_shift_range=0.2,\n",
    "    height_shift_range=0.2,\n",
    "    shear_range=0.2,\n",
    "    zoom_range=0.2,\n",
    "    horizontal_flip=True)\n",
    "\n",
    "test_datagen = ImageDataGenerator(rescale=1./255)\n",
    "\n",
    "train_generator = train_datagen.flow_from_directory(\n",
    "    train_data_dir,                \n",
    "    target_size=(150,150),         \n",
    "    batch_size = 246, \n",
    "    class_mode='categorical')  \n",
    "\n",
    "validation_generator = test_datagen.flow_from_directory(\n",
    "    validation_data_dir,                \n",
    "    target_size=(150,150),         \n",
    "    batch_size = 246, \n",
    "    class_mode='categorical')  \n",
    "\n"
   ]
  },
  {
   "cell_type": "code",
   "execution_count": 24,
   "id": "dimensional-trader",
   "metadata": {},
   "outputs": [
    {
     "name": "stdout",
     "output_type": "stream",
     "text": [
      "Epoch 1/40\n",
      "101/101 [==============================] - 1098s 11s/step - loss: 1.3485 - acc: 0.3373 - val_loss: 1.3320 - val_acc: 0.3495\n",
      "Epoch 2/40\n",
      "101/101 [==============================] - 1016s 10s/step - loss: 1.2935 - acc: 0.3861 - val_loss: 1.2677 - val_acc: 0.3988\n",
      "Epoch 3/40\n",
      "101/101 [==============================] - 1015s 10s/step - loss: 1.2662 - acc: 0.4038 - val_loss: 1.2627 - val_acc: 0.4053\n",
      "Epoch 4/40\n",
      "101/101 [==============================] - 1015s 10s/step - loss: 1.2418 - acc: 0.4197 - val_loss: 1.2574 - val_acc: 0.4260\n",
      "Epoch 5/40\n",
      "101/101 [==============================] - 1028s 10s/step - loss: 1.2248 - acc: 0.4327 - val_loss: 1.2681 - val_acc: 0.4128\n",
      "Epoch 6/40\n",
      "101/101 [==============================] - 1015s 10s/step - loss: 1.2124 - acc: 0.4424 - val_loss: 1.3375 - val_acc: 0.4030\n",
      "Epoch 7/40\n",
      "101/101 [==============================] - 1014s 10s/step - loss: 1.2034 - acc: 0.4506 - val_loss: 1.1920 - val_acc: 0.4602\n",
      "Epoch 8/40\n",
      "101/101 [==============================] - 1025s 10s/step - loss: 1.1944 - acc: 0.4559 - val_loss: 1.2042 - val_acc: 0.4670\n",
      "Epoch 9/40\n",
      "101/101 [==============================] - 1019s 10s/step - loss: 1.1819 - acc: 0.4632 - val_loss: 1.2565 - val_acc: 0.4290\n",
      "Epoch 10/40\n",
      "101/101 [==============================] - 1019s 10s/step - loss: 1.1772 - acc: 0.4678 - val_loss: 1.1457 - val_acc: 0.4922\n",
      "Epoch 11/40\n",
      "101/101 [==============================] - 1021s 10s/step - loss: 1.1655 - acc: 0.4730 - val_loss: 1.1417 - val_acc: 0.5077\n",
      "Epoch 12/40\n",
      "101/101 [==============================] - 1017s 10s/step - loss: 1.1567 - acc: 0.4825 - val_loss: 1.1712 - val_acc: 0.4915\n",
      "Epoch 13/40\n",
      "101/101 [==============================] - 1021s 10s/step - loss: 1.1506 - acc: 0.4862 - val_loss: 1.1662 - val_acc: 0.4778\n",
      "Epoch 14/40\n",
      "101/101 [==============================] - 1016s 10s/step - loss: 1.1478 - acc: 0.4849 - val_loss: 1.2768 - val_acc: 0.4218\n",
      "Epoch 15/40\n",
      "101/101 [==============================] - 1014s 10s/step - loss: 1.1384 - acc: 0.4870 - val_loss: 1.1290 - val_acc: 0.5013\n",
      "Epoch 16/40\n",
      "101/101 [==============================] - 1013s 10s/step - loss: 1.1305 - acc: 0.4954 - val_loss: 1.2122 - val_acc: 0.4580\n",
      "Epoch 17/40\n",
      "101/101 [==============================] - 1016s 10s/step - loss: 1.1271 - acc: 0.4991 - val_loss: 1.1294 - val_acc: 0.5110\n",
      "Epoch 18/40\n",
      "101/101 [==============================] - 1014s 10s/step - loss: 1.1221 - acc: 0.5040 - val_loss: 1.2105 - val_acc: 0.4640\n",
      "Epoch 19/40\n",
      "101/101 [==============================] - 1025s 10s/step - loss: 1.1218 - acc: 0.4975 - val_loss: 1.1864 - val_acc: 0.4737\n",
      "Epoch 20/40\n",
      "101/101 [==============================] - 1018s 10s/step - loss: 1.1108 - acc: 0.5076 - val_loss: 1.1574 - val_acc: 0.4988\n",
      "Epoch 21/40\n",
      "101/101 [==============================] - 1019s 10s/step - loss: 1.1065 - acc: 0.5112 - val_loss: 1.2017 - val_acc: 0.4760\n",
      "Epoch 22/40\n",
      "101/101 [==============================] - 1014s 10s/step - loss: 1.1055 - acc: 0.5104 - val_loss: 1.1878 - val_acc: 0.4717\n",
      "Epoch 23/40\n",
      "101/101 [==============================] - 1013s 10s/step - loss: 1.1008 - acc: 0.5140 - val_loss: 1.1257 - val_acc: 0.5157\n",
      "Epoch 24/40\n",
      "101/101 [==============================] - 1019s 10s/step - loss: 1.0982 - acc: 0.5145 - val_loss: 1.1274 - val_acc: 0.5105\n",
      "Epoch 25/40\n",
      "101/101 [==============================] - 1016s 10s/step - loss: 1.0915 - acc: 0.5193 - val_loss: 1.1075 - val_acc: 0.5153\n",
      "Epoch 26/40\n",
      "101/101 [==============================] - 1016s 10s/step - loss: 1.0857 - acc: 0.5213 - val_loss: 1.0896 - val_acc: 0.5288\n",
      "Epoch 27/40\n",
      "101/101 [==============================] - 1016s 10s/step - loss: 1.0821 - acc: 0.5253 - val_loss: 1.0883 - val_acc: 0.5250\n",
      "Epoch 28/40\n",
      "101/101 [==============================] - 1017s 10s/step - loss: 1.0846 - acc: 0.5250 - val_loss: 1.1731 - val_acc: 0.4910\n",
      "Epoch 29/40\n",
      "101/101 [==============================] - 1017s 10s/step - loss: 1.0743 - acc: 0.5324 - val_loss: 1.1227 - val_acc: 0.5130\n",
      "Epoch 30/40\n",
      "101/101 [==============================] - 1035s 10s/step - loss: 1.0756 - acc: 0.5332 - val_loss: 1.1236 - val_acc: 0.5153\n",
      "Epoch 31/40\n",
      "101/101 [==============================] - 1027s 10s/step - loss: 1.0720 - acc: 0.5292 - val_loss: 1.0761 - val_acc: 0.5320\n",
      "Epoch 32/40\n",
      "101/101 [==============================] - 1052s 10s/step - loss: 1.0650 - acc: 0.5327 - val_loss: 1.1280 - val_acc: 0.5182\n",
      "Epoch 33/40\n",
      "101/101 [==============================] - 1050s 10s/step - loss: 1.0632 - acc: 0.5347 - val_loss: 1.0605 - val_acc: 0.5483\n",
      "Epoch 34/40\n",
      "101/101 [==============================] - 1030s 10s/step - loss: 1.0597 - acc: 0.5395 - val_loss: 1.0634 - val_acc: 0.5447\n",
      "Epoch 35/40\n",
      "101/101 [==============================] - 1024s 10s/step - loss: 1.0612 - acc: 0.5367 - val_loss: 1.1530 - val_acc: 0.5065\n",
      "Epoch 36/40\n",
      "101/101 [==============================] - 1035s 10s/step - loss: 1.0569 - acc: 0.5400 - val_loss: 1.0981 - val_acc: 0.5285\n",
      "Epoch 37/40\n",
      "101/101 [==============================] - 1021s 10s/step - loss: 1.0509 - acc: 0.5408 - val_loss: 1.0788 - val_acc: 0.5368\n",
      "Epoch 38/40\n",
      "101/101 [==============================] - 1031s 10s/step - loss: 1.0506 - acc: 0.5423 - val_loss: 1.0966 - val_acc: 0.5175\n",
      "Epoch 39/40\n",
      "101/101 [==============================] - 1021s 10s/step - loss: 1.0485 - acc: 0.5416 - val_loss: 1.0721 - val_acc: 0.5437\n",
      "Epoch 40/40\n",
      "101/101 [==============================] - 1020s 10s/step - loss: 1.0439 - acc: 0.5466 - val_loss: 1.0830 - val_acc: 0.5372\n"
     ]
    }
   ],
   "source": [
    "history = model.fit(\n",
    "    train_generator, \n",
    "    epochs = 40, \n",
    "    validation_data = validation_generator) \n",
    "model.save('paintings2.h5')"
   ]
  },
  {
   "cell_type": "code",
   "execution_count": 25,
   "id": "christian-subject",
   "metadata": {
    "scrolled": false
   },
   "outputs": [
    {
     "data": {
      "image/png": "[encoded data removed]",
      "text/plain": [
       "<Figure size 432x288 with 1 Axes>"
      ]
     },
     "metadata": {
      "needs_background": "light"
     },
     "output_type": "display_data"
    },
    {
     "data": {
      "image/png": "[encoded data removed]",
      "text/plain": [
       "<Figure size 432x288 with 1 Axes>"
      ]
     },
     "metadata": {
      "needs_background": "light"
     },
     "output_type": "display_data"
    }
   ],
   "source": [
    "\n",
    "acc = history.history['acc']\n",
    "val_acc = history.history['val_acc']\n",
    "loss = history.history['loss']\n",
    "val_loss = history.history['val_loss']\n",
    "\n",
    "epochs = range(1, len(acc) + 1)\n",
    "\n",
    "plt.plot(epochs, acc, 'bo', label = 'Training acc')\n",
    "plt.plot(epochs, val_acc, 'b', label = 'Validation acc')\n",
    "plt.title('Training and validation accuracy')\n",
    "plt.legend()\n",
    "plt.figure()\n",
    "\n",
    "plt.plot(epochs, loss, 'bo', label = 'Training loss')\n",
    "plt.plot(epochs, val_loss, 'b', label = 'Validation loss')\n",
    "plt.title('Training and validation loss')\n",
    "plt.legend()\n",
    "\n",
    "plt.show()"
   ]
  },
  {
   "cell_type": "markdown",
   "id": "sustainable-madison",
   "metadata": {},
   "source": [
    "## Improving accuracy- Creation of weights with VGG16"
   ]
  },
  {
   "cell_type": "code",
   "execution_count": 3,
   "id": "living-provision",
   "metadata": {},
   "outputs": [],
   "source": [
    "#Loading vgc16 model\n",
    "vgg16 = applications.VGG16(include_top=False, weights='imagenet')\n",
    "\n",
    "datagen = ImageDataGenerator(rescale=1. / 255) "
   ]
  },
  {
   "cell_type": "markdown",
   "id": "ordinary-separation",
   "metadata": {},
   "source": [
    "bottleneck features for train"
   ]
  },
  {
   "cell_type": "code",
   "execution_count": 50,
   "id": "respective-fruit",
   "metadata": {},
   "outputs": [
    {
     "name": "stdout",
     "output_type": "stream",
     "text": [
      "Found 24698 images belonging to 4 classes.\n",
      "Time:  1:59:30.367533\n"
     ]
    }
   ],
   "source": [
    "start = datetime.datetime.now()\n",
    " \n",
    "generator = datagen.flow_from_directory( \n",
    "    train_data_dir, \n",
    "    target_size=(224, 224), \n",
    "    batch_size=50, \n",
    "    class_mode='categorical', \n",
    "    shuffle=False) \n",
    " \n",
    "nb_train_samples = len(generator.filenames) \n",
    "num_classes = len(generator.class_indices) \n",
    " \n",
    "predict_size_train = int(math.ceil(nb_train_samples / 100)) \n",
    " \n",
    "bott_feat_train = vgg16.predict(generator, predict_size_train) \n",
    " \n",
    "np.save('bott_feat_train1.npy', bott_feat_train)\n",
    "end= datetime.datetime.now()\n",
    "elapsed= end-start\n",
    "print ('Time: ', elapsed)"
   ]
  },
  {
   "cell_type": "markdown",
   "id": "pregnant-punishment",
   "metadata": {},
   "source": [
    "bottleneck features for validation"
   ]
  },
  {
   "cell_type": "code",
   "execution_count": 51,
   "id": "guilty-warning",
   "metadata": {},
   "outputs": [
    {
     "name": "stdout",
     "output_type": "stream",
     "text": [
      "Found 4000 images belonging to 4 classes.\n",
      "Time:  0:19:23.143707\n"
     ]
    }
   ],
   "source": [
    "start = datetime.datetime.now()\n",
    " \n",
    "generator = datagen.flow_from_directory( \n",
    "    validation_data_dir, \n",
    "    target_size=(224, 224), \n",
    "    batch_size=50, \n",
    "    class_mode='categorical', \n",
    "    shuffle=False) \n",
    " \n",
    "nb_val_samples = len(generator.filenames) \n",
    "num_classes = len(generator.class_indices) \n",
    " \n",
    "predict_size_val = int(math.ceil(nb_val_samples / 100)) \n",
    " \n",
    "bott_feat_val = vgg16.predict(generator, predict_size_val) \n",
    " \n",
    "np.save('bott_feat_val1.npy', bott_feat_val)\n",
    "end= datetime.datetime.now()\n",
    "elapsed= end-start\n",
    "print ('Time: ', elapsed)"
   ]
  },
  {
   "cell_type": "markdown",
   "id": "valuable-sunglasses",
   "metadata": {},
   "source": [
    "bottleneck features for test"
   ]
  },
  {
   "cell_type": "code",
   "execution_count": 52,
   "id": "cutting-expression",
   "metadata": {},
   "outputs": [
    {
     "name": "stdout",
     "output_type": "stream",
     "text": [
      "Found 8766 images belonging to 4 classes.\n",
      "Time:  0:42:15.609012\n"
     ]
    }
   ],
   "source": [
    "start = datetime.datetime.now()\n",
    " \n",
    "generator = datagen.flow_from_directory( \n",
    "    test_data_dir, \n",
    "    target_size=(224, 224), \n",
    "    batch_size=50, \n",
    "    class_mode='categorical', \n",
    "    shuffle=False) \n",
    " \n",
    "nb_test_samples = len(generator.filenames) \n",
    "num_classes = len(generator.class_indices) \n",
    " \n",
    "predict_size_test = int(math.ceil(nb_test_samples / 100)) \n",
    " \n",
    "bott_feat_test = vgg16.predict(generator, predict_size_test) \n",
    " \n",
    "np.save('bott_feat_test1.npy', bott_feat_test)\n",
    "end= datetime.datetime.now()\n",
    "elapsed= end-start\n",
    "print ('Time: ', elapsed)"
   ]
  },
  {
   "cell_type": "markdown",
   "id": "synthetic-suspect",
   "metadata": {},
   "source": [
    "#### training the model"
   ]
  },
  {
   "cell_type": "code",
   "execution_count": 75,
   "id": "dress-wilderness",
   "metadata": {},
   "outputs": [
    {
     "name": "stdout",
     "output_type": "stream",
     "text": [
      "Found 24698 images belonging to 4 classes.\n"
     ]
    }
   ],
   "source": [
    "datagen = ImageDataGenerator(rescale=1./255)  \n",
    "generator = datagen.flow_from_directory( \n",
    "    train_data_dir, \n",
    "    target_size=(150, 150), \n",
    "    batch_size=50, \n",
    "    class_mode='categorical', \n",
    "    shuffle=False)\n",
    "\n",
    "\n",
    "nb_train_samples = len(generator.filenames)  \n",
    "num_classes = len(generator.class_indices)\n",
    "# load the bottleneck features saved earlier  \n",
    "train_data = np.load('bott_feat_train1.npy')   \n",
    "# convert the training labels to categorical vectors  \n",
    "train_labels = to_categorical(generator.classes, num_classes=num_classes) "
   ]
  },
  {
   "cell_type": "code",
   "execution_count": 76,
   "id": "established-hollow",
   "metadata": {},
   "outputs": [
    {
     "name": "stdout",
     "output_type": "stream",
     "text": [
      "Found 4000 images belonging to 4 classes.\n"
     ]
    }
   ],
   "source": [
    "generator = datagen.flow_from_directory( \n",
    "    validation_data_dir, \n",
    "    target_size=(150, 150), \n",
    "    batch_size=50, \n",
    "    class_mode='categorical', \n",
    "    shuffle=False) \n",
    "   \n",
    "nb_val_samples = len(generator.filenames)  \n",
    "   \n",
    "validation_data = np.load('bott_feat_val1.npy')  \n",
    "\n",
    "validation_labels = to_categorical(generator.classes , num_classes=num_classes)"
   ]
  },
  {
   "cell_type": "code",
   "execution_count": 77,
   "id": "funky-board",
   "metadata": {},
   "outputs": [
    {
     "name": "stdout",
     "output_type": "stream",
     "text": [
      "Found 8766 images belonging to 4 classes.\n"
     ]
    }
   ],
   "source": [
    "generator = datagen.flow_from_directory( \n",
    "    test_data_dir, \n",
    "    target_size=(150, 150), \n",
    "    batch_size=50, \n",
    "    class_mode='categorical', \n",
    "    shuffle=False) \n",
    "   \n",
    "nb_test_samples = len(generator.filenames)  \n",
    "   \n",
    "test_data = np.load('bott_feat_test1.npy')  \n",
    "\n",
    "test_labels = to_categorical(generator.classes , num_classes=num_classes)"
   ]
  },
  {
   "cell_type": "code",
   "execution_count": 78,
   "id": "separate-reverse",
   "metadata": {},
   "outputs": [
    {
     "name": "stdout",
     "output_type": "stream",
     "text": [
      "Model: \"sequential_17\"\n",
      "_________________________________________________________________\n",
      "Layer (type)                 Output Shape              Param #   \n",
      "=================================================================\n",
      "flatten_17 (Flatten)         (None, 25088)             0         \n",
      "_________________________________________________________________\n",
      "dense_39 (Dense)             (None, 512)               12845568  \n",
      "_________________________________________________________________\n",
      "dropout_33 (Dropout)         (None, 512)               0         \n",
      "_________________________________________________________________\n",
      "dense_40 (Dense)             (None, 50)                25650     \n",
      "_________________________________________________________________\n",
      "dropout_34 (Dropout)         (None, 50)                0         \n",
      "_________________________________________________________________\n",
      "dense_41 (Dense)             (None, 4)                 204       \n",
      "=================================================================\n",
      "Total params: 12,871,422\n",
      "Trainable params: 12,871,422\n",
      "Non-trainable params: 0\n",
      "_________________________________________________________________\n"
     ]
    }
   ],
   "source": [
    "\n",
    "model = Sequential()  \n",
    "model.add(Flatten(input_shape=train_data.shape[1:]))  \n",
    "model.add(Dense(512, activation='relu'))  \n",
    "model.add(Dropout(0.5))  \n",
    "model.add(Dense(50, activation='relu'))  \n",
    "model.add(Dropout(0.5)) \n",
    "model.add(Dense(num_classes, activation='softmax'))\n",
    "\n",
    "model.compile(loss='categorical_crossentropy', \n",
    "               optimizer=optimizers.RMSprop(lr=1e-4),\n",
    "               metrics=['acc'])\n",
    "\n",
    "\n",
    "model.summary()"
   ]
  },
  {
   "cell_type": "code",
   "execution_count": 79,
   "id": "hairy-cheat",
   "metadata": {},
   "outputs": [
    {
     "name": "stdout",
     "output_type": "stream",
     "text": [
      "Epoch 1/20\n",
      "494/494 [==============================] - 117s 236ms/step - loss: 1.3019 - acc: 0.3784 - val_loss: 1.1985 - val_acc: 0.4565\n",
      "Epoch 2/20\n",
      "494/494 [==============================] - 117s 237ms/step - loss: 1.1963 - acc: 0.4468 - val_loss: 1.1278 - val_acc: 0.4967\n",
      "Epoch 3/20\n",
      "494/494 [==============================] - 111s 225ms/step - loss: 1.1495 - acc: 0.4821 - val_loss: 1.0973 - val_acc: 0.5247\n",
      "Epoch 4/20\n",
      "494/494 [==============================] - 115s 234ms/step - loss: 1.1221 - acc: 0.5005 - val_loss: 1.0982 - val_acc: 0.5228\n",
      "Epoch 5/20\n",
      "494/494 [==============================] - 116s 236ms/step - loss: 1.0952 - acc: 0.5136 - val_loss: 1.0910 - val_acc: 0.5275\n",
      "Epoch 6/20\n",
      "494/494 [==============================] - 111s 225ms/step - loss: 1.0736 - acc: 0.5332 - val_loss: 1.1193 - val_acc: 0.5167\n",
      "Epoch 7/20\n",
      "494/494 [==============================] - 117s 237ms/step - loss: 1.0533 - acc: 0.5436 - val_loss: 1.0536 - val_acc: 0.5550\n",
      "Epoch 8/20\n",
      "494/494 [==============================] - 111s 226ms/step - loss: 1.0321 - acc: 0.5572 - val_loss: 1.0872 - val_acc: 0.5500\n",
      "Epoch 9/20\n",
      "494/494 [==============================] - 107s 216ms/step - loss: 1.0159 - acc: 0.5627 - val_loss: 1.0730 - val_acc: 0.5490\n",
      "Epoch 10/20\n",
      "494/494 [==============================] - 110s 224ms/step - loss: 0.9885 - acc: 0.5837 - val_loss: 1.0547 - val_acc: 0.5650\n",
      "Epoch 11/20\n",
      "494/494 [==============================] - 106s 215ms/step - loss: 0.9676 - acc: 0.5912 - val_loss: 1.0543 - val_acc: 0.5655\n",
      "Epoch 12/20\n",
      "494/494 [==============================] - 113s 229ms/step - loss: 0.9497 - acc: 0.6027 - val_loss: 1.0622 - val_acc: 0.5587\n",
      "Epoch 13/20\n",
      "494/494 [==============================] - 116s 234ms/step - loss: 0.9330 - acc: 0.6098 - val_loss: 1.0518 - val_acc: 0.5673\n",
      "Epoch 14/20\n",
      "494/494 [==============================] - 114s 231ms/step - loss: 0.9121 - acc: 0.6224 - val_loss: 1.0960 - val_acc: 0.5533\n",
      "Epoch 15/20\n",
      "494/494 [==============================] - 116s 235ms/step - loss: 0.8941 - acc: 0.6356 - val_loss: 1.1533 - val_acc: 0.5372\n",
      "Epoch 16/20\n",
      "494/494 [==============================] - 115s 234ms/step - loss: 0.8718 - acc: 0.6427 - val_loss: 1.0891 - val_acc: 0.5573\n",
      "Epoch 17/20\n",
      "494/494 [==============================] - 111s 225ms/step - loss: 0.8542 - acc: 0.6496 - val_loss: 1.1101 - val_acc: 0.5635\n",
      "Epoch 18/20\n",
      "494/494 [==============================] - 111s 225ms/step - loss: 0.8362 - acc: 0.6611 - val_loss: 1.1237 - val_acc: 0.5565\n",
      "Epoch 19/20\n",
      "494/494 [==============================] - 107s 217ms/step - loss: 0.8232 - acc: 0.6712 - val_loss: 1.1445 - val_acc: 0.5502\n",
      "Epoch 20/20\n",
      "494/494 [==============================] - 122s 246ms/step - loss: 0.7955 - acc: 0.6791 - val_loss: 1.1678 - val_acc: 0.5635\n"
     ]
    }
   ],
   "source": [
    "history = model.fit(train_data, train_labels,  \n",
    "      epochs=20,  \n",
    "      batch_size=50,  \n",
    "      validation_data=(validation_data, validation_labels)) \n",
    "model.save('paintings3vgg5.h5')"
   ]
  },
  {
   "cell_type": "code",
   "execution_count": 81,
   "id": "sexual-perspective",
   "metadata": {},
   "outputs": [
    {
     "data": {
      "image/png": "[encoded data removed]",
      "text/plain": [
       "<Figure size 432x288 with 1 Axes>"
      ]
     },
     "metadata": {
      "needs_background": "light"
     },
     "output_type": "display_data"
    },
    {
     "data": {
      "image/png": "[encoded data removed]",
      "text/plain": [
       "<Figure size 432x288 with 1 Axes>"
      ]
     },
     "metadata": {
      "needs_background": "light"
     },
     "output_type": "display_data"
    }
   ],
   "source": [
    "acc = history.history['acc']\n",
    "val_acc = history.history['val_acc']\n",
    "loss = history.history['loss']\n",
    "val_loss = history.history['val_loss']\n",
    "\n",
    "epochs = range(1, len(acc) + 1)\n",
    "\n",
    "plt.plot(epochs, acc, 'bo', label = 'Training acc')\n",
    "plt.plot(epochs, val_acc, 'b', label = 'Validation acc')\n",
    "plt.title('Training and validation accuracy')\n",
    "plt.legend()\n",
    "plt.figure()\n",
    "\n",
    "plt.plot(epochs, loss, 'bo', label = 'Training loss')\n",
    "plt.plot(epochs, val_loss, 'b', label = 'Validation loss')\n",
    "plt.title('Training and validation loss')\n",
    "plt.legend()\n",
    "\n",
    "plt.show()"
   ]
  },
  {
   "cell_type": "markdown",
   "id": "scenic-relation",
   "metadata": {},
   "source": [
    "#### Fine tunning - changing optimizer to Adam"
   ]
  },
  {
   "cell_type": "code",
   "execution_count": 82,
   "id": "adjustable-roommate",
   "metadata": {},
   "outputs": [],
   "source": [
    "model = Sequential()  \n",
    "model.add(Flatten(input_shape=train_data.shape[1:]))  \n",
    "model.add(Dense(512, activation='relu'))  \n",
    "model.add(Dropout(0.5))  \n",
    "model.add(Dense(50, activation='relu'))  \n",
    "model.add(Dropout(0.5)) \n",
    "model.add(Dense(num_classes, activation='softmax'))\n",
    "\n",
    "model.compile(loss='categorical_crossentropy', \n",
    "               optimizer='Adam',\n",
    "               metrics=['acc'])"
   ]
  },
  {
   "cell_type": "code",
   "execution_count": 83,
   "id": "naked-daily",
   "metadata": {},
   "outputs": [
    {
     "name": "stdout",
     "output_type": "stream",
     "text": [
      "Epoch 1/20\n",
      "494/494 [==============================] - 67s 136ms/step - loss: 1.4516 - acc: 0.2878 - val_loss: 1.3637 - val_acc: 0.2955\n",
      "Epoch 2/20\n",
      "494/494 [==============================] - 69s 139ms/step - loss: 1.3431 - acc: 0.3173 - val_loss: 1.2429 - val_acc: 0.4300\n",
      "Epoch 3/20\n",
      "494/494 [==============================] - 67s 136ms/step - loss: 1.2840 - acc: 0.3755 - val_loss: 1.2545 - val_acc: 0.4243\n",
      "Epoch 4/20\n",
      "494/494 [==============================] - 62s 126ms/step - loss: 1.2354 - acc: 0.4181 - val_loss: 1.1870 - val_acc: 0.4550\n",
      "Epoch 5/20\n",
      "494/494 [==============================] - 63s 128ms/step - loss: 1.1909 - acc: 0.4495 - val_loss: 1.1719 - val_acc: 0.4613\n",
      "Epoch 6/20\n",
      "494/494 [==============================] - 70s 141ms/step - loss: 1.1605 - acc: 0.4713 - val_loss: 1.1302 - val_acc: 0.4882\n",
      "Epoch 7/20\n",
      "494/494 [==============================] - 65s 131ms/step - loss: 1.1374 - acc: 0.4835 - val_loss: 1.1033 - val_acc: 0.5173\n",
      "Epoch 8/20\n",
      "494/494 [==============================] - 73s 149ms/step - loss: 1.1148 - acc: 0.4944 - val_loss: 1.1472 - val_acc: 0.4950\n",
      "Epoch 9/20\n",
      "494/494 [==============================] - 69s 141ms/step - loss: 1.0927 - acc: 0.5061 - val_loss: 1.0888 - val_acc: 0.5228\n",
      "Epoch 10/20\n",
      "494/494 [==============================] - 63s 128ms/step - loss: 1.0706 - acc: 0.5182 - val_loss: 1.0899 - val_acc: 0.5228\n",
      "Epoch 11/20\n",
      "494/494 [==============================] - 62s 125ms/step - loss: 1.0566 - acc: 0.5254 - val_loss: 1.0983 - val_acc: 0.5117\n",
      "Epoch 12/20\n",
      "494/494 [==============================] - 67s 136ms/step - loss: 1.0351 - acc: 0.5318 - val_loss: 1.1087 - val_acc: 0.5192\n",
      "Epoch 13/20\n",
      "494/494 [==============================] - 65s 132ms/step - loss: 1.0321 - acc: 0.5315 - val_loss: 1.1202 - val_acc: 0.5123\n",
      "Epoch 14/20\n",
      "494/494 [==============================] - 64s 129ms/step - loss: 1.0094 - acc: 0.5437 - val_loss: 1.0907 - val_acc: 0.5163\n",
      "Epoch 15/20\n",
      "494/494 [==============================] - 62s 125ms/step - loss: 0.9953 - acc: 0.5502 - val_loss: 1.0777 - val_acc: 0.5188\n",
      "Epoch 16/20\n",
      "494/494 [==============================] - 62s 126ms/step - loss: 0.9825 - acc: 0.5569 - val_loss: 1.0951 - val_acc: 0.5163\n",
      "Epoch 17/20\n",
      "494/494 [==============================] - 64s 129ms/step - loss: 0.9625 - acc: 0.5645 - val_loss: 1.0907 - val_acc: 0.5315\n",
      "Epoch 18/20\n",
      "494/494 [==============================] - 58s 118ms/step - loss: 0.9447 - acc: 0.5764 - val_loss: 1.0968 - val_acc: 0.5372\n",
      "Epoch 19/20\n",
      "494/494 [==============================] - 57s 116ms/step - loss: 0.9349 - acc: 0.5773 - val_loss: 1.1060 - val_acc: 0.5257\n",
      "Epoch 20/20\n",
      "494/494 [==============================] - 57s 116ms/step - loss: 0.9247 - acc: 0.5835 - val_loss: 1.1768 - val_acc: 0.5303\n"
     ]
    }
   ],
   "source": [
    "history = model.fit(train_data, train_labels,  \n",
    "      epochs=20,  \n",
    "      batch_size=50,  \n",
    "      validation_data=(validation_data, validation_labels)) \n",
    "model.save('paintings3vgg5.h5')"
   ]
  },
  {
   "cell_type": "code",
   "execution_count": 85,
   "id": "protecting-expression",
   "metadata": {},
   "outputs": [
    {
     "data": {
      "image/png": "[encoded data removed]",
      "text/plain": [
       "<Figure size 432x288 with 1 Axes>"
      ]
     },
     "metadata": {
      "needs_background": "light"
     },
     "output_type": "display_data"
    },
    {
     "data": {
      "image/png": "[encoded data removed]",
      "text/plain": [
       "<Figure size 432x288 with 1 Axes>"
      ]
     },
     "metadata": {
      "needs_background": "light"
     },
     "output_type": "display_data"
    }
   ],
   "source": [
    "acc = history.history['acc']\n",
    "val_acc = history.history['val_acc']\n",
    "loss = history.history['loss']\n",
    "val_loss = history.history['val_loss']\n",
    "\n",
    "epochs = range(1, len(acc) + 1)\n",
    "\n",
    "plt.plot(epochs, acc, 'bo', label = 'Training acc')\n",
    "plt.plot(epochs, val_acc, 'b', label = 'Validation acc')\n",
    "plt.title('Training and validation accuracy')\n",
    "plt.legend()\n",
    "plt.figure()\n",
    "\n",
    "plt.plot(epochs, loss, 'bo', label = 'Training loss')\n",
    "plt.plot(epochs, val_loss, 'b', label = 'Validation loss')\n",
    "plt.title('Training and validation loss')\n",
    "plt.legend()\n",
    "\n",
    "plt.show()"
   ]
  },
  {
   "cell_type": "markdown",
   "id": "patent-accessory",
   "metadata": {},
   "source": [
    "## Experimenting different model "
   ]
  },
  {
   "cell_type": "code",
   "execution_count": 71,
   "id": "registered-bubble",
   "metadata": {},
   "outputs": [
    {
     "name": "stdout",
     "output_type": "stream",
     "text": [
      "Found 24698 images belonging to 4 classes.\n",
      "Found 4000 images belonging to 4 classes.\n"
     ]
    }
   ],
   "source": [
    "datagen = ImageDataGenerator(\n",
    "    rescale=1./255, \n",
    "    rotation_range=20,\n",
    "    zoom_range=0.15,\n",
    "    horizontal_flip=True) \n",
    "train_generator = datagen.flow_from_directory( \n",
    "    train_data_dir, \n",
    "    target_size=(150, 150), \n",
    "    batch_size=128)\n",
    "\n",
    "\n",
    "test_datagen = ImageDataGenerator(rescale=1./255)\n",
    "\n",
    "val_generator = test_datagen.flow_from_directory( \n",
    "    validation_data_dir, \n",
    "    target_size=(150, 150), \n",
    "    batch_size=128)"
   ]
  },
  {
   "cell_type": "code",
   "execution_count": 72,
   "id": "incorrect-pledge",
   "metadata": {},
   "outputs": [
    {
     "name": "stdout",
     "output_type": "stream",
     "text": [
      "Model: \"sequential_16\"\n",
      "_________________________________________________________________\n",
      "Layer (type)                 Output Shape              Param #   \n",
      "=================================================================\n",
      "conv2d_12 (Conv2D)           (None, 148, 148, 32)      896       \n",
      "_________________________________________________________________\n",
      "max_pooling2d_12 (MaxPooling (None, 74, 74, 32)        0         \n",
      "_________________________________________________________________\n",
      "dropout_28 (Dropout)         (None, 74, 74, 32)        0         \n",
      "_________________________________________________________________\n",
      "conv2d_13 (Conv2D)           (None, 72, 72, 32)        9248      \n",
      "_________________________________________________________________\n",
      "max_pooling2d_13 (MaxPooling (None, 36, 36, 32)        0         \n",
      "_________________________________________________________________\n",
      "dropout_29 (Dropout)         (None, 36, 36, 32)        0         \n",
      "_________________________________________________________________\n",
      "conv2d_14 (Conv2D)           (None, 34, 34, 64)        18496     \n",
      "_________________________________________________________________\n",
      "max_pooling2d_14 (MaxPooling (None, 17, 17, 64)        0         \n",
      "_________________________________________________________________\n",
      "dropout_30 (Dropout)         (None, 17, 17, 64)        0         \n",
      "_________________________________________________________________\n",
      "flatten_16 (Flatten)         (None, 18496)             0         \n",
      "_________________________________________________________________\n",
      "dense_36 (Dense)             (None, 128)               2367616   \n",
      "_________________________________________________________________\n",
      "dropout_31 (Dropout)         (None, 128)               0         \n",
      "_________________________________________________________________\n",
      "dense_37 (Dense)             (None, 64)                8256      \n",
      "_________________________________________________________________\n",
      "dropout_32 (Dropout)         (None, 64)                0         \n",
      "_________________________________________________________________\n",
      "dense_38 (Dense)             (None, 4)                 260       \n",
      "=================================================================\n",
      "Total params: 2,404,772\n",
      "Trainable params: 2,404,772\n",
      "Non-trainable params: 0\n",
      "_________________________________________________________________\n"
     ]
    }
   ],
   "source": [
    "model = Sequential([\n",
    "    Conv2D(32, (3, 3), input_shape=(150,150,3), activation='relu'),\n",
    "    MaxPooling2D(pool_size=(2, 2)),\n",
    "    Dropout(0.2),\n",
    "    \n",
    "    Conv2D(32, (3, 3), activation='relu'),\n",
    "    MaxPooling2D(pool_size=(2, 2)),\n",
    "    Dropout(0.2),\n",
    "    \n",
    "    Conv2D(64, (3, 3), activation='relu'),\n",
    "    MaxPooling2D(pool_size=(2, 2)),\n",
    "    Dropout(0.2),\n",
    "    \n",
    "    Flatten(),\n",
    "    Dense(128, activation='relu'),\n",
    "    Dropout(0.2),\n",
    "    Dense(64, activation='relu'),\n",
    "    Dropout(0.2),\n",
    "    Dense(4, activation='softmax')\n",
    "])\n",
    "\n",
    "model.compile(optimizer='Adam', loss=\"categorical_crossentropy\", metrics=[\"accuracy\"])\n",
    "model.summary()"
   ]
  },
  {
   "cell_type": "code",
   "execution_count": 73,
   "id": "satisfied-forum",
   "metadata": {},
   "outputs": [
    {
     "name": "stdout",
     "output_type": "stream",
     "text": [
      "Epoch 1/30\n",
      "193/192 [==============================] - 881s 5s/step - loss: 1.3448 - accuracy: 0.3284 - val_loss: 1.3039 - val_accuracy: 0.3705\n",
      "Epoch 2/30\n",
      "193/192 [==============================] - 863s 4s/step - loss: 1.2417 - accuracy: 0.4150 - val_loss: 1.2536 - val_accuracy: 0.4202\n",
      "Epoch 3/30\n",
      "193/192 [==============================] - 874s 5s/step - loss: 1.1872 - accuracy: 0.4572 - val_loss: 1.1893 - val_accuracy: 0.4670\n",
      "Epoch 4/30\n",
      "193/192 [==============================] - 869s 5s/step - loss: 1.1413 - accuracy: 0.4917 - val_loss: 1.2142 - val_accuracy: 0.4627\n",
      "Epoch 5/30\n",
      "193/192 [==============================] - 865s 4s/step - loss: 1.1155 - accuracy: 0.5072 - val_loss: 1.1082 - val_accuracy: 0.5245\n",
      "Epoch 6/30\n",
      "193/192 [==============================] - 868s 4s/step - loss: 1.0980 - accuracy: 0.5194 - val_loss: 1.1399 - val_accuracy: 0.5150\n",
      "Epoch 7/30\n",
      "193/192 [==============================] - 865s 4s/step - loss: 1.0752 - accuracy: 0.5290 - val_loss: 1.1199 - val_accuracy: 0.5138\n",
      "Epoch 8/30\n",
      "193/192 [==============================] - 865s 4s/step - loss: 1.0649 - accuracy: 0.5392 - val_loss: 1.1089 - val_accuracy: 0.5345\n",
      "Epoch 9/30\n",
      "193/192 [==============================] - 865s 4s/step - loss: 1.0432 - accuracy: 0.5479 - val_loss: 1.0398 - val_accuracy: 0.5663\n",
      "Epoch 10/30\n",
      "193/192 [==============================] - 906s 5s/step - loss: 1.0290 - accuracy: 0.5579 - val_loss: 1.1497 - val_accuracy: 0.5020\n",
      "Epoch 11/30\n",
      "193/192 [==============================] - 870s 5s/step - loss: 1.0209 - accuracy: 0.5590 - val_loss: 1.0964 - val_accuracy: 0.5290\n",
      "Epoch 12/30\n",
      "193/192 [==============================] - 871s 5s/step - loss: 1.0090 - accuracy: 0.5658 - val_loss: 1.1044 - val_accuracy: 0.5290\n",
      "Epoch 13/30\n",
      "193/192 [==============================] - 868s 4s/step - loss: 1.0079 - accuracy: 0.5702 - val_loss: 1.0512 - val_accuracy: 0.5590\n",
      "Epoch 14/30\n",
      "193/192 [==============================] - 879s 5s/step - loss: 0.9954 - accuracy: 0.5738 - val_loss: 1.0448 - val_accuracy: 0.5633\n",
      "Epoch 15/30\n",
      "193/192 [==============================] - 871s 5s/step - loss: 0.9856 - accuracy: 0.5791 - val_loss: 1.0226 - val_accuracy: 0.5562\n",
      "Epoch 16/30\n",
      "193/192 [==============================] - 868s 4s/step - loss: 0.9815 - accuracy: 0.5822 - val_loss: 1.0585 - val_accuracy: 0.5570\n",
      "Epoch 17/30\n",
      "193/192 [==============================] - 867s 4s/step - loss: 0.9766 - accuracy: 0.5840 - val_loss: 1.0292 - val_accuracy: 0.5573\n",
      "Epoch 18/30\n",
      "193/192 [==============================] - 869s 5s/step - loss: 0.9718 - accuracy: 0.5821 - val_loss: 1.0155 - val_accuracy: 0.5720\n",
      "Epoch 19/30\n",
      "193/192 [==============================] - 868s 4s/step - loss: 0.9611 - accuracy: 0.5925 - val_loss: 1.0201 - val_accuracy: 0.5698\n",
      "Epoch 20/30\n",
      "193/192 [==============================] - 870s 5s/step - loss: 0.9554 - accuracy: 0.5937 - val_loss: 1.0405 - val_accuracy: 0.5612\n",
      "Epoch 21/30\n",
      "193/192 [==============================] - 868s 4s/step - loss: 0.9498 - accuracy: 0.5955 - val_loss: 1.0340 - val_accuracy: 0.5608\n",
      "Epoch 22/30\n",
      "193/192 [==============================] - 870s 5s/step - loss: 0.9446 - accuracy: 0.5967 - val_loss: 1.0136 - val_accuracy: 0.5780\n",
      "Epoch 23/30\n",
      "193/192 [==============================] - 868s 4s/step - loss: 0.9359 - accuracy: 0.6055 - val_loss: 1.0320 - val_accuracy: 0.5685\n",
      "Epoch 24/30\n",
      "193/192 [==============================] - 867s 4s/step - loss: 0.9313 - accuracy: 0.6058 - val_loss: 1.0310 - val_accuracy: 0.5650\n",
      "Epoch 25/30\n",
      "193/192 [==============================] - 868s 4s/step - loss: 0.9259 - accuracy: 0.6055 - val_loss: 1.0098 - val_accuracy: 0.5702\n",
      "Epoch 26/30\n",
      "193/192 [==============================] - 868s 4s/step - loss: 0.9278 - accuracy: 0.6078 - val_loss: 1.0181 - val_accuracy: 0.5695\n",
      "Epoch 27/30\n",
      "193/192 [==============================] - 867s 4s/step - loss: 0.9111 - accuracy: 0.6128 - val_loss: 1.0516 - val_accuracy: 0.5592\n",
      "Epoch 28/30\n",
      "193/192 [==============================] - 869s 5s/step - loss: 0.9128 - accuracy: 0.6158 - val_loss: 1.0729 - val_accuracy: 0.5405\n",
      "Epoch 29/30\n",
      "193/192 [==============================] - 866s 4s/step - loss: 0.9046 - accuracy: 0.6209 - val_loss: 1.0026 - val_accuracy: 0.5813\n",
      "Epoch 30/30\n",
      "193/192 [==============================] - 867s 4s/step - loss: 0.9026 - accuracy: 0.6198 - val_loss: 1.0555 - val_accuracy: 0.5565\n"
     ]
    }
   ],
   "source": [
    "\n",
    "history = model.fit(train_generator, validation_data=val_generator,\n",
    "                                  epochs=30, steps_per_epoch=len(train_generator.filenames) /128, verbose=1)\n",
    "model.save('paintingstop.h5')"
   ]
  },
  {
   "cell_type": "code",
   "execution_count": 74,
   "id": "cleared-bryan",
   "metadata": {},
   "outputs": [
    {
     "data": {
      "image/png": "[encoded data removed]",
      "text/plain": [
       "<Figure size 432x288 with 1 Axes>"
      ]
     },
     "metadata": {
      "needs_background": "light"
     },
     "output_type": "display_data"
    },
    {
     "data": {
      "image/png": "[encoded data removed]",
      "text/plain": [
       "<Figure size 432x288 with 1 Axes>"
      ]
     },
     "metadata": {
      "needs_background": "light"
     },
     "output_type": "display_data"
    }
   ],
   "source": [
    "acc = history.history['accuracy']\n",
    "val_acc = history.history['val_accuracy']\n",
    "loss = history.history['loss']\n",
    "val_loss = history.history['val_loss']\n",
    "\n",
    "epochs = range(1, len(acc) + 1)\n",
    "\n",
    "plt.plot(epochs, acc, 'bo', label = 'Training acc')\n",
    "plt.plot(epochs, val_acc, 'b', label = 'Validation acc')\n",
    "plt.title('Training and validation accuracy')\n",
    "plt.legend()\n",
    "plt.figure()\n",
    "\n",
    "plt.plot(epochs, loss, 'bo', label = 'Training loss')\n",
    "plt.plot(epochs, val_loss, 'b', label = 'Validation loss')\n",
    "plt.title('Training and validation loss')\n",
    "plt.legend()\n",
    "\n",
    "plt.show()"
   ]
  },
  {
   "cell_type": "markdown",
   "id": "utility-planning",
   "metadata": {},
   "source": [
    "### Fine Tuning \n",
    "decreasing bach size, increasing dropout"
   ]
  },
  {
   "cell_type": "code",
   "execution_count": 19,
   "id": "tracked-vaccine",
   "metadata": {},
   "outputs": [
    {
     "name": "stdout",
     "output_type": "stream",
     "text": [
      "Found 24698 images belonging to 4 classes.\n",
      "Found 4000 images belonging to 4 classes.\n"
     ]
    }
   ],
   "source": [
    "datagen = ImageDataGenerator(\n",
    "    rescale=1./255, \n",
    "    rotation_range=20,\n",
    "    zoom_range=0.20,\n",
    "    shear_range=0.3,\n",
    "    horizontal_flip=True) \n",
    "\n",
    "train_generator = datagen.flow_from_directory( \n",
    "    train_data_dir, \n",
    "    target_size=(150, 150), \n",
    "    batch_size=100)\n",
    "\n",
    "\n",
    "test_datagen = ImageDataGenerator(rescale=1./255)\n",
    "\n",
    "val_generator = test_datagen.flow_from_directory( \n",
    "    validation_data_dir, \n",
    "    target_size=(150, 150), \n",
    "    batch_size=100)"
   ]
  },
  {
   "cell_type": "code",
   "execution_count": 20,
   "id": "handmade-russell",
   "metadata": {},
   "outputs": [],
   "source": [
    "model = Sequential([\n",
    "    Conv2D(32, (3, 3), input_shape=(150,150,3), activation='relu'),\n",
    "    MaxPooling2D(pool_size=(2, 2)),\n",
    "    Dropout(0.2),\n",
    "    \n",
    "    Conv2D(32, (3, 3), activation='relu'),\n",
    "    MaxPooling2D(pool_size=(2, 2)),\n",
    "    Dropout(0.5),\n",
    "    \n",
    "    Conv2D(64, (3, 3), activation='relu'),\n",
    "    MaxPooling2D(pool_size=(2, 2)),\n",
    "    Dropout(0.5),\n",
    "    \n",
    "    Flatten(),\n",
    "    Dense(128, activation='relu'),\n",
    "    Dropout(0.5),\n",
    "    Dense(64, activation='relu'),\n",
    "    Dense(4, activation='softmax')\n",
    "])\n",
    "\n",
    "model.compile(optimizer='Adam', loss=\"categorical_crossentropy\", metrics=[\"accuracy\"])"
   ]
  },
  {
   "cell_type": "code",
   "execution_count": 21,
   "id": "compact-browse",
   "metadata": {},
   "outputs": [
    {
     "name": "stdout",
     "output_type": "stream",
     "text": [
      "Epoch 1/35\n",
      "247/246 [==============================] - 885s 4s/step - loss: 1.3343 - accuracy: 0.3437 - val_loss: 1.3356 - val_accuracy: 0.3605\n",
      "Epoch 2/35\n",
      "247/246 [==============================] - 864s 3s/step - loss: 1.2564 - accuracy: 0.4083 - val_loss: 1.2694 - val_accuracy: 0.4038\n",
      "Epoch 3/35\n",
      "247/246 [==============================] - 864s 3s/step - loss: 1.2192 - accuracy: 0.4405 - val_loss: 1.2416 - val_accuracy: 0.4162\n",
      "Epoch 4/35\n",
      "247/246 [==============================] - 863s 3s/step - loss: 1.1855 - accuracy: 0.4662 - val_loss: 1.2144 - val_accuracy: 0.4570\n",
      "Epoch 5/35\n",
      "247/246 [==============================] - 864s 3s/step - loss: 1.1585 - accuracy: 0.4775 - val_loss: 1.2255 - val_accuracy: 0.4550\n",
      "Epoch 6/35\n",
      "247/246 [==============================] - 864s 3s/step - loss: 1.1393 - accuracy: 0.4957 - val_loss: 1.1915 - val_accuracy: 0.4622\n",
      "Epoch 7/35\n",
      "247/246 [==============================] - 866s 4s/step - loss: 1.1249 - accuracy: 0.4991 - val_loss: 1.1916 - val_accuracy: 0.4633\n",
      "Epoch 8/35\n",
      "247/246 [==============================] - 863s 3s/step - loss: 1.1175 - accuracy: 0.5064 - val_loss: 1.2233 - val_accuracy: 0.4493\n",
      "Epoch 9/35\n",
      "247/246 [==============================] - 865s 4s/step - loss: 1.1051 - accuracy: 0.5088 - val_loss: 1.1810 - val_accuracy: 0.4830\n",
      "Epoch 10/35\n",
      "247/246 [==============================] - 864s 3s/step - loss: 1.0978 - accuracy: 0.5181 - val_loss: 1.2532 - val_accuracy: 0.4347\n",
      "Epoch 11/35\n",
      "247/246 [==============================] - 866s 4s/step - loss: 1.0903 - accuracy: 0.5205 - val_loss: 1.1834 - val_accuracy: 0.4785\n",
      "Epoch 12/35\n",
      "247/246 [==============================] - 864s 3s/step - loss: 1.0841 - accuracy: 0.5251 - val_loss: 1.1741 - val_accuracy: 0.4840\n",
      "Epoch 13/35\n",
      "247/246 [==============================] - 865s 4s/step - loss: 1.0785 - accuracy: 0.5311 - val_loss: 1.2370 - val_accuracy: 0.4460\n",
      "Epoch 14/35\n",
      "247/246 [==============================] - 864s 3s/step - loss: 1.0750 - accuracy: 0.5313 - val_loss: 1.1700 - val_accuracy: 0.4935\n",
      "Epoch 15/35\n",
      "247/246 [==============================] - 865s 4s/step - loss: 1.0622 - accuracy: 0.5377 - val_loss: 1.1386 - val_accuracy: 0.5098\n",
      "Epoch 16/35\n",
      "247/246 [==============================] - 865s 4s/step - loss: 1.0589 - accuracy: 0.5403 - val_loss: 1.1257 - val_accuracy: 0.5242\n",
      "Epoch 17/35\n",
      "247/246 [==============================] - 864s 3s/step - loss: 1.0655 - accuracy: 0.5348 - val_loss: 1.2223 - val_accuracy: 0.4490\n",
      "Epoch 18/35\n",
      "247/246 [==============================] - 861s 3s/step - loss: 1.0592 - accuracy: 0.5377 - val_loss: 1.1714 - val_accuracy: 0.4900\n",
      "Epoch 19/35\n",
      "247/246 [==============================] - 866s 4s/step - loss: 1.0496 - accuracy: 0.5431 - val_loss: 1.1654 - val_accuracy: 0.4880\n",
      "Epoch 20/35\n",
      "247/246 [==============================] - 864s 3s/step - loss: 1.0497 - accuracy: 0.5436 - val_loss: 1.1705 - val_accuracy: 0.4860\n",
      "Epoch 21/35\n",
      "247/246 [==============================] - 863s 3s/step - loss: 1.0478 - accuracy: 0.5432 - val_loss: 1.1063 - val_accuracy: 0.5173\n",
      "Epoch 22/35\n",
      "247/246 [==============================] - 866s 4s/step - loss: 1.0365 - accuracy: 0.5504 - val_loss: 1.1381 - val_accuracy: 0.4913\n",
      "Epoch 23/35\n",
      "247/246 [==============================] - 865s 4s/step - loss: 1.0373 - accuracy: 0.5521 - val_loss: 1.1711 - val_accuracy: 0.4865\n",
      "Epoch 24/35\n",
      "247/246 [==============================] - 863s 3s/step - loss: 1.0368 - accuracy: 0.5485 - val_loss: 1.0933 - val_accuracy: 0.5253\n",
      "Epoch 25/35\n",
      "247/246 [==============================] - 864s 3s/step - loss: 1.0351 - accuracy: 0.5492 - val_loss: 1.1209 - val_accuracy: 0.5095\n",
      "Epoch 26/35\n",
      "247/246 [==============================] - 864s 3s/step - loss: 1.0296 - accuracy: 0.5557 - val_loss: 1.1097 - val_accuracy: 0.5240\n",
      "Epoch 27/35\n",
      "247/246 [==============================] - 865s 4s/step - loss: 1.0239 - accuracy: 0.5564 - val_loss: 1.1295 - val_accuracy: 0.4963\n",
      "Epoch 28/35\n",
      "247/246 [==============================] - 866s 4s/step - loss: 1.0248 - accuracy: 0.5536 - val_loss: 1.1445 - val_accuracy: 0.4705\n",
      "Epoch 29/35\n",
      "247/246 [==============================] - 872s 4s/step - loss: 1.0229 - accuracy: 0.5590 - val_loss: 1.1357 - val_accuracy: 0.4910\n",
      "Epoch 30/35\n",
      "247/246 [==============================] - 878s 4s/step - loss: 1.0175 - accuracy: 0.5634 - val_loss: 1.1337 - val_accuracy: 0.4908\n",
      "Epoch 31/35\n",
      "247/246 [==============================] - 881s 4s/step - loss: 1.0156 - accuracy: 0.5619 - val_loss: 1.0968 - val_accuracy: 0.5255\n",
      "Epoch 32/35\n",
      "247/246 [==============================] - 885s 4s/step - loss: 1.0144 - accuracy: 0.5588 - val_loss: 1.1583 - val_accuracy: 0.4863\n",
      "Epoch 33/35\n",
      "247/246 [==============================] - 884s 4s/step - loss: 1.0097 - accuracy: 0.5678 - val_loss: 1.1297 - val_accuracy: 0.4947\n",
      "Epoch 34/35\n",
      "247/246 [==============================] - 880s 4s/step - loss: 1.0114 - accuracy: 0.5615 - val_loss: 1.1088 - val_accuracy: 0.5215\n",
      "Epoch 35/35\n",
      "247/246 [==============================] - 882s 4s/step - loss: 1.0105 - accuracy: 0.5673 - val_loss: 1.1173 - val_accuracy: 0.5000\n"
     ]
    }
   ],
   "source": [
    "\n",
    "history = model.fit(train_generator, validation_data=val_generator,\n",
    "                                  epochs=35, steps_per_epoch=len(train_generator.filenames) /100, verbose=1)"
   ]
  },
  {
   "cell_type": "code",
   "execution_count": 22,
   "id": "polish-montgomery",
   "metadata": {},
   "outputs": [
    {
     "data": {
      "image/png": "[encoded data removed]",
      "text/plain": [
       "<Figure size 432x288 with 1 Axes>"
      ]
     },
     "metadata": {
      "needs_background": "light"
     },
     "output_type": "display_data"
    },
    {
     "data": {
      "image/png": "[encoded data removed]",
      "text/plain": [
       "<Figure size 432x288 with 1 Axes>"
      ]
     },
     "metadata": {
      "needs_background": "light"
     },
     "output_type": "display_data"
    }
   ],
   "source": [
    "acc = history.history['accuracy']\n",
    "val_acc = history.history['val_accuracy']\n",
    "loss = history.history['loss']\n",
    "val_loss = history.history['val_loss']\n",
    "\n",
    "epochs = range(1, len(acc) + 1)\n",
    "\n",
    "plt.plot(epochs, acc, 'bo', label = 'Training acc')\n",
    "plt.plot(epochs, val_acc, 'b', label = 'Validation acc')\n",
    "plt.title('Training and validation accuracy')\n",
    "plt.legend()\n",
    "plt.figure()\n",
    "\n",
    "plt.plot(epochs, loss, 'bo', label = 'Training loss')\n",
    "plt.plot(epochs, val_loss, 'b', label = 'Validation loss')\n",
    "plt.title('Training and validation loss')\n",
    "plt.legend()\n",
    "\n",
    "plt.show()"
   ]
  },
  {
   "cell_type": "markdown",
   "id": "extended-render",
   "metadata": {},
   "source": [
    "### Other attempts"
   ]
  },
  {
   "cell_type": "code",
   "execution_count": 33,
   "id": "limited-apollo",
   "metadata": {},
   "outputs": [
    {
     "name": "stdout",
     "output_type": "stream",
     "text": [
      "Found 24698 images belonging to 4 classes.\n"
     ]
    }
   ],
   "source": [
    "datagen = ImageDataGenerator(\n",
    "    rescale=1./255)\n",
    " \n",
    "generator = datagen.flow_from_directory( \n",
    "    train_data_dir, \n",
    "    target_size=(224, 224), \n",
    "    batch_size=10, \n",
    "    class_mode='categorical', \n",
    "    shuffle=False)\n",
    "\n",
    "\n",
    "nb_train_samples = len(generator.filenames)  \n",
    "num_classes = len(generator.class_indices)\n",
    "# load the bottleneck features saved earlier  \n",
    "train_data = np.load('bott_feat_train1.npy')   \n",
    "# convert the training labels to categorical vectors  \n",
    "train_labels = to_categorical(generator.classes, num_classes=num_classes) "
   ]
  },
  {
   "cell_type": "code",
   "execution_count": 34,
   "id": "careful-aluminum",
   "metadata": {},
   "outputs": [
    {
     "name": "stdout",
     "output_type": "stream",
     "text": [
      "Found 4000 images belonging to 4 classes.\n"
     ]
    }
   ],
   "source": [
    "generator = datagen.flow_from_directory( \n",
    "    validation_data_dir, \n",
    "    target_size=(224, 224), \n",
    "    batch_size=10, \n",
    "    class_mode='categorical', \n",
    "    shuffle=False) \n",
    "   \n",
    "nb_val_samples = len(generator.filenames)  \n",
    "   \n",
    "validation_data = np.load('bott_feat_val1.npy')  \n",
    "\n",
    "validation_labels = to_categorical(generator.classes , num_classes=num_classes)"
   ]
  },
  {
   "cell_type": "code",
   "execution_count": 35,
   "id": "determined-allocation",
   "metadata": {},
   "outputs": [
    {
     "name": "stdout",
     "output_type": "stream",
     "text": [
      "Found 8766 images belonging to 4 classes.\n"
     ]
    }
   ],
   "source": [
    "generator = datagen.flow_from_directory( \n",
    "    test_data_dir, \n",
    "    target_size=(224, 224), \n",
    "    batch_size=10, \n",
    "    class_mode='categorical', \n",
    "    shuffle=False) \n",
    "   \n",
    "nb_test_samples = len(generator.filenames)  \n",
    "   \n",
    "test_data = np.load('bott_feat_test1.npy')  \n",
    "\n",
    "test_labels = to_categorical(generator.classes , num_classes=num_classes)"
   ]
  },
  {
   "cell_type": "code",
   "execution_count": 40,
   "id": "minus-timeline",
   "metadata": {},
   "outputs": [
    {
     "name": "stdout",
     "output_type": "stream",
     "text": [
      "Model: \"sequential_8\"\n",
      "_________________________________________________________________\n",
      "Layer (type)                 Output Shape              Param #   \n",
      "=================================================================\n",
      "flatten_8 (Flatten)          (None, 25088)             0         \n",
      "_________________________________________________________________\n",
      "dropout_21 (Dropout)         (None, 25088)             0         \n",
      "_________________________________________________________________\n",
      "dense_20 (Dense)             (None, 512)               12845568  \n",
      "_________________________________________________________________\n",
      "dense_21 (Dense)             (None, 4)                 2052      \n",
      "=================================================================\n",
      "Total params: 12,847,620\n",
      "Trainable params: 12,847,620\n",
      "Non-trainable params: 0\n",
      "_________________________________________________________________\n"
     ]
    }
   ],
   "source": [
    "model = Sequential()  \n",
    "model.add(Flatten(input_shape=train_data.shape[1:]))    \n",
    "model.add(Dropout(0.5))  \n",
    "model.add(Dense(512, activation='relu'))  \n",
    "model.add(Dense(num_classes, activation='softmax'))\n",
    "\n",
    "model.compile(loss='categorical_crossentropy', \n",
    "               optimizer='Adam',\n",
    "               metrics=['accuracy'])\n",
    "\n",
    "\n",
    "model.summary()"
   ]
  },
  {
   "cell_type": "code",
   "execution_count": 41,
   "id": "demanding-silly",
   "metadata": {
    "scrolled": false
   },
   "outputs": [
    {
     "name": "stdout",
     "output_type": "stream",
     "text": [
      "Epoch 1/20\n",
      "2470/2470 [==============================] - 216s 87ms/step - loss: 1.1901 - accuracy: 0.4834 - val_loss: 1.1267 - val_accuracy: 0.4960\n",
      "Epoch 2/20\n",
      "2470/2470 [==============================] - 211s 85ms/step - loss: 1.0590 - accuracy: 0.5316 - val_loss: 1.0561 - val_accuracy: 0.5337\n",
      "Epoch 3/20\n",
      "2470/2470 [==============================] - 212s 86ms/step - loss: 1.0128 - accuracy: 0.5611 - val_loss: 1.0895 - val_accuracy: 0.5343\n",
      "Epoch 4/20\n",
      "2470/2470 [==============================] - 216s 87ms/step - loss: 0.9777 - accuracy: 0.5752 - val_loss: 1.0906 - val_accuracy: 0.5415\n",
      "Epoch 5/20\n",
      "2470/2470 [==============================] - 210s 85ms/step - loss: 0.9467 - accuracy: 0.5911 - val_loss: 1.0675 - val_accuracy: 0.5487\n",
      "Epoch 6/20\n",
      "2470/2470 [==============================] - 209s 84ms/step - loss: 0.9244 - accuracy: 0.6099 - val_loss: 1.0430 - val_accuracy: 0.5590\n",
      "Epoch 7/20\n",
      "2470/2470 [==============================] - 212s 86ms/step - loss: 0.9005 - accuracy: 0.6142 - val_loss: 1.0758 - val_accuracy: 0.5520\n",
      "Epoch 8/20\n",
      "2470/2470 [==============================] - 209s 85ms/step - loss: 0.8849 - accuracy: 0.6196 - val_loss: 1.0936 - val_accuracy: 0.5347\n",
      "Epoch 9/20\n",
      "2470/2470 [==============================] - 215s 87ms/step - loss: 0.8634 - accuracy: 0.6355 - val_loss: 1.0808 - val_accuracy: 0.5510\n",
      "Epoch 10/20\n",
      "2470/2470 [==============================] - 218s 88ms/step - loss: 0.8477 - accuracy: 0.6413 - val_loss: 1.0869 - val_accuracy: 0.5518\n",
      "Epoch 11/20\n",
      "2470/2470 [==============================] - 212s 86ms/step - loss: 0.8289 - accuracy: 0.6464 - val_loss: 1.1193 - val_accuracy: 0.5625\n",
      "Epoch 12/20\n",
      "2470/2470 [==============================] - 210s 85ms/step - loss: 0.8182 - accuracy: 0.6569 - val_loss: 1.1228 - val_accuracy: 0.5430\n",
      "Epoch 13/20\n",
      "2470/2470 [==============================] - 215s 87ms/step - loss: 0.8176 - accuracy: 0.6541 - val_loss: 1.1805 - val_accuracy: 0.5310\n",
      "Epoch 14/20\n",
      "2470/2470 [==============================] - 213s 86ms/step - loss: 0.8024 - accuracy: 0.6633 - val_loss: 1.1031 - val_accuracy: 0.5447\n",
      "Epoch 15/20\n",
      "2470/2470 [==============================] - 211s 85ms/step - loss: 0.7933 - accuracy: 0.6629 - val_loss: 1.1531 - val_accuracy: 0.5337\n",
      "Epoch 16/20\n",
      "2470/2470 [==============================] - 210s 85ms/step - loss: 0.7798 - accuracy: 0.6745 - val_loss: 1.1057 - val_accuracy: 0.5533\n",
      "Epoch 17/20\n",
      "2470/2470 [==============================] - 206s 83ms/step - loss: 0.7625 - accuracy: 0.6821 - val_loss: 1.1231 - val_accuracy: 0.5518\n",
      "Epoch 18/20\n",
      "2470/2470 [==============================] - 187s 76ms/step - loss: 0.7648 - accuracy: 0.6797 - val_loss: 1.1243 - val_accuracy: 0.5527\n",
      "Epoch 19/20\n",
      "2470/2470 [==============================] - 191s 77ms/step - loss: 0.7548 - accuracy: 0.6833 - val_loss: 1.1392 - val_accuracy: 0.5435\n",
      "Epoch 20/20\n",
      "2470/2470 [==============================] - 201s 81ms/step - loss: 0.7464 - accuracy: 0.6897 - val_loss: 1.1770 - val_accuracy: 0.5280\n"
     ]
    }
   ],
   "source": [
    "history = model.fit(train_data, train_labels,  \n",
    "      epochs=20,  \n",
    "      batch_size=10,  \n",
    "      validation_data=(validation_data, validation_labels)) \n",
    "model.save('paintings3vgg6.h5')"
   ]
  },
  {
   "cell_type": "code",
   "execution_count": 44,
   "id": "right-cinema",
   "metadata": {},
   "outputs": [
    {
     "data": {
      "image/png": "[encoded data removed]",
      "text/plain": [
       "<Figure size 432x288 with 1 Axes>"
      ]
     },
     "metadata": {
      "needs_background": "light"
     },
     "output_type": "display_data"
    },
    {
     "data": {
      "image/png": "[encoded data removed]",
      "text/plain": [
       "<Figure size 432x288 with 1 Axes>"
      ]
     },
     "metadata": {
      "needs_background": "light"
     },
     "output_type": "display_data"
    }
   ],
   "source": [
    "acc = history.history['accuracy']\n",
    "val_acc = history.history['val_accuracy']\n",
    "loss = history.history['loss']\n",
    "val_loss = history.history['val_loss']\n",
    "\n",
    "epochs = range(1, len(acc) + 1)\n",
    "\n",
    "plt.plot(epochs, acc, 'bo', label = 'Training acc')\n",
    "plt.plot(epochs, val_acc, 'b', label = 'Validation acc')\n",
    "plt.title('Training and validation accuracy')\n",
    "plt.legend()\n",
    "plt.figure()\n",
    "\n",
    "plt.plot(epochs, loss, 'bo', label = 'Training loss')\n",
    "plt.plot(epochs, val_loss, 'b', label = 'Validation loss')\n",
    "plt.title('Training and validation loss')\n",
    "plt.legend()\n",
    "\n",
    "plt.show()"
   ]
  },
  {
   "cell_type": "code",
   "execution_count": 68,
   "id": "preceding-crest",
   "metadata": {},
   "outputs": [
    {
     "name": "stdout",
     "output_type": "stream",
     "text": [
      "Model: \"sequential_15\"\n",
      "_________________________________________________________________\n",
      "Layer (type)                 Output Shape              Param #   \n",
      "=================================================================\n",
      "flatten_15 (Flatten)         (None, 25088)             0         \n",
      "_________________________________________________________________\n",
      "dense_34 (Dense)             (None, 256)               6422784   \n",
      "_________________________________________________________________\n",
      "dense_35 (Dense)             (None, 4)                 1028      \n",
      "=================================================================\n",
      "Total params: 6,423,812\n",
      "Trainable params: 6,423,812\n",
      "Non-trainable params: 0\n",
      "_________________________________________________________________\n"
     ]
    }
   ],
   "source": [
    "from keras.regularizers import l2\n",
    "model = Sequential()  \n",
    "model.add(Flatten(input_shape=train_data.shape[1:])) \n",
    "model.add(Dense(256, kernel_regularizer=l2(0.01), bias_regularizer=l2(0.01), activation='relu')) \n",
    "model.add(Dense(num_classes, activation='softmax'))\n",
    "\n",
    "\n",
    "\n",
    "\n",
    "model.compile(loss='categorical_crossentropy', \n",
    "               optimizer=optimizers.RMSprop(lr=1e-3),\n",
    "               metrics=['accuracy'])\n",
    "\n",
    "\n",
    "model.summary()"
   ]
  },
  {
   "cell_type": "code",
   "execution_count": 70,
   "id": "genuine-solid",
   "metadata": {},
   "outputs": [
    {
     "name": "stdout",
     "output_type": "stream",
     "text": [
      "Epoch 1/20\n",
      "2470/2470 [==============================] - 365s 148ms/step - loss: 3.5045 - accuracy: 0.3570 - val_loss: 1.6748 - val_accuracy: 0.3900\n",
      "Epoch 2/20\n",
      "2470/2470 [==============================] - 358s 145ms/step - loss: 1.5368 - accuracy: 0.3983 - val_loss: 1.3014 - val_accuracy: 0.4697\n",
      "Epoch 3/20\n",
      "2470/2470 [==============================] - 358s 145ms/step - loss: 1.3574 - accuracy: 0.4306 - val_loss: 1.3812 - val_accuracy: 0.4330\n",
      "Epoch 4/20\n",
      "2470/2470 [==============================] - 359s 145ms/step - loss: 1.3498 - accuracy: 0.4329 - val_loss: 1.2954 - val_accuracy: 0.4655\n",
      "Epoch 5/20\n",
      "2470/2470 [==============================] - 361s 146ms/step - loss: 1.3520 - accuracy: 0.4320 - val_loss: 1.4208 - val_accuracy: 0.4050\n",
      "Epoch 6/20\n",
      "2470/2470 [==============================] - 359s 145ms/step - loss: 1.3460 - accuracy: 0.4310 - val_loss: 1.3171 - val_accuracy: 0.4333\n",
      "Epoch 7/20\n",
      "2470/2470 [==============================] - 359s 145ms/step - loss: 1.3443 - accuracy: 0.4344 - val_loss: 1.5106 - val_accuracy: 0.3738\n",
      "Epoch 8/20\n",
      "2470/2470 [==============================] - 359s 145ms/step - loss: 1.3412 - accuracy: 0.4374 - val_loss: 1.5111 - val_accuracy: 0.4212\n",
      "Epoch 9/20\n",
      "2470/2470 [==============================] - 358s 145ms/step - loss: 1.3431 - accuracy: 0.4345 - val_loss: 1.3670 - val_accuracy: 0.4480\n",
      "Epoch 10/20\n",
      "2470/2470 [==============================] - 358s 145ms/step - loss: 1.3436 - accuracy: 0.4316 - val_loss: 1.3850 - val_accuracy: 0.4170\n",
      "Epoch 11/20\n",
      "2470/2470 [==============================] - 358s 145ms/step - loss: 1.3419 - accuracy: 0.4363 - val_loss: 1.5954 - val_accuracy: 0.3663\n",
      "Epoch 12/20\n",
      "2470/2470 [==============================] - 357s 145ms/step - loss: 1.3457 - accuracy: 0.4368 - val_loss: 1.3667 - val_accuracy: 0.4285\n",
      "Epoch 13/20\n",
      "2470/2470 [==============================] - 357s 145ms/step - loss: 1.3454 - accuracy: 0.4310 - val_loss: 1.3114 - val_accuracy: 0.4705\n",
      "Epoch 14/20\n",
      "2470/2470 [==============================] - 359s 146ms/step - loss: 1.3419 - accuracy: 0.4362 - val_loss: 1.3107 - val_accuracy: 0.4395\n",
      "Epoch 15/20\n",
      "2470/2470 [==============================] - 358s 145ms/step - loss: 1.3420 - accuracy: 0.4368 - val_loss: 1.4128 - val_accuracy: 0.3605\n",
      "Epoch 16/20\n",
      "2470/2470 [==============================] - 360s 146ms/step - loss: 1.3456 - accuracy: 0.4333 - val_loss: 1.3522 - val_accuracy: 0.4512\n",
      "Epoch 17/20\n",
      "2470/2470 [==============================] - 366s 148ms/step - loss: 1.3457 - accuracy: 0.4340 - val_loss: 1.5912 - val_accuracy: 0.3230\n",
      "Epoch 18/20\n",
      "2470/2470 [==============================] - 359s 145ms/step - loss: 1.3447 - accuracy: 0.4367 - val_loss: 1.3643 - val_accuracy: 0.4135\n",
      "Epoch 19/20\n",
      "2470/2470 [==============================] - 358s 145ms/step - loss: 1.3450 - accuracy: 0.4366 - val_loss: 1.3365 - val_accuracy: 0.4280\n",
      "Epoch 20/20\n",
      "2470/2470 [==============================] - 357s 145ms/step - loss: 1.3411 - accuracy: 0.4372 - val_loss: 1.2994 - val_accuracy: 0.4538\n"
     ]
    }
   ],
   "source": [
    "history = model.fit(train_data, train_labels,  \n",
    "      epochs=20,  \n",
    "      batch_size=10,  \n",
    "      validation_data=(validation_data, validation_labels)) \n",
    "model.save('paintings3vgg8.h5')"
   ]
  },
  {
   "cell_type": "code",
   "execution_count": 61,
   "id": "bigger-celtic",
   "metadata": {},
   "outputs": [
    {
     "data": {
      "image/png": "[encoded data removed]",
      "text/plain": [
       "<Figure size 432x288 with 1 Axes>"
      ]
     },
     "metadata": {
      "needs_background": "light"
     },
     "output_type": "display_data"
    },
    {
     "data": {
      "image/png": "[encoded data removed]",
      "text/plain": [
       "<Figure size 432x288 with 1 Axes>"
      ]
     },
     "metadata": {
      "needs_background": "light"
     },
     "output_type": "display_data"
    }
   ],
   "source": [
    "acc = history.history['accuracy']\n",
    "val_acc = history.history['val_accuracy']\n",
    "loss = history.history['loss']\n",
    "val_loss = history.history['val_loss']\n",
    "\n",
    "epochs = range(1, len(acc) + 1)\n",
    "\n",
    "plt.plot(epochs, acc, 'bo', label = 'Training acc')\n",
    "plt.plot(epochs, val_acc, 'b', label = 'Validation acc')\n",
    "plt.title('Training and validation accuracy')\n",
    "plt.legend()\n",
    "plt.figure()\n",
    "\n",
    "plt.plot(epochs, loss, 'bo', label = 'Training loss')\n",
    "plt.plot(epochs, val_loss, 'b', label = 'Validation loss')\n",
    "plt.title('Training and validation loss')\n",
    "plt.legend()\n",
    "\n",
    "plt.show()"
   ]
  },
  {
   "cell_type": "markdown",
   "id": "internal-lithuania",
   "metadata": {},
   "source": [
    "## Going back to second approach"
   ]
  },
  {
   "cell_type": "code",
   "execution_count": 6,
   "id": "driving-poverty",
   "metadata": {},
   "outputs": [
    {
     "name": "stdout",
     "output_type": "stream",
     "text": [
      "Model: \"sequential_1\"\n",
      "_________________________________________________________________\n",
      "Layer (type)                 Output Shape              Param #   \n",
      "=================================================================\n",
      "conv2d_4 (Conv2D)            (None, 148, 148, 32)      896       \n",
      "_________________________________________________________________\n",
      "max_pooling2d_4 (MaxPooling2 (None, 74, 74, 32)        0         \n",
      "_________________________________________________________________\n",
      "conv2d_5 (Conv2D)            (None, 72, 72, 64)        18496     \n",
      "_________________________________________________________________\n",
      "max_pooling2d_5 (MaxPooling2 (None, 36, 36, 64)        0         \n",
      "_________________________________________________________________\n",
      "conv2d_6 (Conv2D)            (None, 34, 34, 128)       73856     \n",
      "_________________________________________________________________\n",
      "max_pooling2d_6 (MaxPooling2 (None, 17, 17, 128)       0         \n",
      "_________________________________________________________________\n",
      "conv2d_7 (Conv2D)            (None, 15, 15, 128)       147584    \n",
      "_________________________________________________________________\n",
      "max_pooling2d_7 (MaxPooling2 (None, 7, 7, 128)         0         \n",
      "_________________________________________________________________\n",
      "flatten_1 (Flatten)          (None, 6272)              0         \n",
      "_________________________________________________________________\n",
      "dropout_1 (Dropout)          (None, 6272)              0         \n",
      "_________________________________________________________________\n",
      "dense_2 (Dense)              (None, 512)               3211776   \n",
      "_________________________________________________________________\n",
      "dense_3 (Dense)              (None, 4)                 2052      \n",
      "=================================================================\n",
      "Total params: 3,454,660\n",
      "Trainable params: 3,454,660\n",
      "Non-trainable params: 0\n",
      "_________________________________________________________________\n"
     ]
    }
   ],
   "source": [
    "model = models.Sequential()\n",
    "model.add(layers.Conv2D(32, (3, 3), activation='relu', input_shape = (150, 150, 3)))\n",
    "model.add(layers.MaxPooling2D((2, 2)))\n",
    "model.add(layers.Conv2D(64, (3, 3), activation='relu'))\n",
    "model.add(layers.MaxPooling2D((2, 2)))\n",
    "model.add(layers.Conv2D(128, (3, 3), activation='relu'))\n",
    "model.add(layers.MaxPooling2D((2, 2)))\n",
    "model.add(layers.Conv2D(128, (3, 3), activation='relu'))\n",
    "model.add(layers.MaxPooling2D((2, 2)))\n",
    "model.add(layers.Flatten()) \n",
    "model.add(layers.Dropout(0.5))\n",
    "model.add(layers.Dense(512, activation='relu'))\n",
    "model.add(layers.Dense(4, activation='softmax'))\n",
    "\n",
    "model.summary()"
   ]
  },
  {
   "cell_type": "code",
   "execution_count": 7,
   "id": "czech-wrong",
   "metadata": {},
   "outputs": [],
   "source": [
    "model.compile(loss='categorical_crossentropy', \n",
    "               optimizer='Adam',\n",
    "               metrics=['accuracy'])"
   ]
  },
  {
   "cell_type": "markdown",
   "id": "fuzzy-clearing",
   "metadata": {},
   "source": [
    "#### Training the convnet using data-augmentation generators"
   ]
  },
  {
   "cell_type": "code",
   "execution_count": 8,
   "id": "greek-flood",
   "metadata": {},
   "outputs": [
    {
     "name": "stdout",
     "output_type": "stream",
     "text": [
      "Found 24698 images belonging to 4 classes.\n",
      "Found 4000 images belonging to 4 classes.\n"
     ]
    }
   ],
   "source": [
    "train_datagen = ImageDataGenerator(\n",
    "    rescale=1./255, \n",
    "    rotation_range=40,\n",
    "    width_shift_range=0.2,\n",
    "    height_shift_range=0.2,\n",
    "    shear_range=0.2,\n",
    "    zoom_range=0.2,\n",
    "    horizontal_flip=True)\n",
    "\n",
    "test_datagen = ImageDataGenerator(rescale=1./255)\n",
    "\n",
    "train_generator = train_datagen.flow_from_directory(\n",
    "    train_data_dir,                \n",
    "    target_size=(150,150),         \n",
    "    batch_size = 246, \n",
    "    class_mode='categorical')  \n",
    "\n",
    "validation_generator = test_datagen.flow_from_directory(\n",
    "    validation_data_dir,                \n",
    "    target_size=(150,150),         \n",
    "    batch_size = 246, \n",
    "    class_mode='categorical')  \n",
    "\n"
   ]
  },
  {
   "cell_type": "code",
   "execution_count": 9,
   "id": "smart-country",
   "metadata": {
    "scrolled": false
   },
   "outputs": [
    {
     "name": "stdout",
     "output_type": "stream",
     "text": [
      "Epoch 1/45\n",
      "101/101 [==============================] - 1159s 11s/step - loss: 1.3094 - accuracy: 0.3657 - val_loss: 1.2828 - val_accuracy: 0.3850\n",
      "Epoch 2/45\n",
      "101/101 [==============================] - 956s 9s/step - loss: 1.2300 - accuracy: 0.4326 - val_loss: 1.1923 - val_accuracy: 0.4613\n",
      "Epoch 3/45\n",
      "101/101 [==============================] - 962s 10s/step - loss: 1.1808 - accuracy: 0.4609 - val_loss: 1.1471 - val_accuracy: 0.4942\n",
      "Epoch 4/45\n",
      "101/101 [==============================] - 958s 9s/step - loss: 1.1467 - accuracy: 0.4848 - val_loss: 1.1525 - val_accuracy: 0.4882\n",
      "Epoch 5/45\n",
      "101/101 [==============================] - 956s 9s/step - loss: 1.1308 - accuracy: 0.4923 - val_loss: 1.1390 - val_accuracy: 0.4990\n",
      "Epoch 6/45\n",
      "101/101 [==============================] - 956s 9s/step - loss: 1.1129 - accuracy: 0.5055 - val_loss: 1.0785 - val_accuracy: 0.5335\n",
      "Epoch 7/45\n",
      "101/101 [==============================] - 956s 9s/step - loss: 1.1002 - accuracy: 0.5142 - val_loss: 1.0671 - val_accuracy: 0.5447\n",
      "Epoch 8/45\n",
      "101/101 [==============================] - 946s 9s/step - loss: 1.0828 - accuracy: 0.5230 - val_loss: 1.0506 - val_accuracy: 0.5505\n",
      "Epoch 9/45\n",
      "101/101 [==============================] - 967s 10s/step - loss: 1.0765 - accuracy: 0.5289 - val_loss: 1.0794 - val_accuracy: 0.5383\n",
      "Epoch 10/45\n",
      "101/101 [==============================] - 953s 9s/step - loss: 1.0552 - accuracy: 0.5411 - val_loss: 1.0332 - val_accuracy: 0.5658\n",
      "Epoch 11/45\n",
      "101/101 [==============================] - 947s 9s/step - loss: 1.0541 - accuracy: 0.5396 - val_loss: 1.0682 - val_accuracy: 0.5527\n",
      "Epoch 12/45\n",
      "101/101 [==============================] - 950s 9s/step - loss: 1.0460 - accuracy: 0.5401 - val_loss: 1.0553 - val_accuracy: 0.5577\n",
      "Epoch 13/45\n",
      "101/101 [==============================] - 945s 9s/step - loss: 1.0384 - accuracy: 0.5478 - val_loss: 1.0370 - val_accuracy: 0.5705\n",
      "Epoch 14/45\n",
      "101/101 [==============================] - 948s 9s/step - loss: 1.0241 - accuracy: 0.5539 - val_loss: 1.0447 - val_accuracy: 0.5543\n",
      "Epoch 15/45\n",
      "101/101 [==============================] - 953s 9s/step - loss: 1.0242 - accuracy: 0.5555 - val_loss: 1.0215 - val_accuracy: 0.5732\n",
      "Epoch 16/45\n",
      "101/101 [==============================] - 946s 9s/step - loss: 1.0145 - accuracy: 0.5610 - val_loss: 1.0450 - val_accuracy: 0.5602\n",
      "Epoch 17/45\n",
      "101/101 [==============================] - 950s 9s/step - loss: 1.0133 - accuracy: 0.5569 - val_loss: 0.9911 - val_accuracy: 0.5880\n",
      "Epoch 18/45\n",
      "101/101 [==============================] - 952s 9s/step - loss: 1.0080 - accuracy: 0.5658 - val_loss: 0.9892 - val_accuracy: 0.5893\n",
      "Epoch 19/45\n",
      "101/101 [==============================] - 949s 9s/step - loss: 0.9966 - accuracy: 0.5658 - val_loss: 1.0324 - val_accuracy: 0.5592\n",
      "Epoch 20/45\n",
      "101/101 [==============================] - 953s 9s/step - loss: 0.9981 - accuracy: 0.5686 - val_loss: 1.0233 - val_accuracy: 0.5688\n",
      "Epoch 21/45\n",
      "101/101 [==============================] - 948s 9s/step - loss: 0.9893 - accuracy: 0.5749 - val_loss: 1.0052 - val_accuracy: 0.5855\n",
      "Epoch 22/45\n",
      "101/101 [==============================] - 950s 9s/step - loss: 0.9807 - accuracy: 0.5774 - val_loss: 1.0233 - val_accuracy: 0.5695\n",
      "Epoch 23/45\n",
      "101/101 [==============================] - 949s 9s/step - loss: 0.9785 - accuracy: 0.5831 - val_loss: 1.0520 - val_accuracy: 0.5770\n",
      "Epoch 24/45\n",
      "101/101 [==============================] - 951s 9s/step - loss: 0.9755 - accuracy: 0.5831 - val_loss: 0.9783 - val_accuracy: 0.5888\n",
      "Epoch 25/45\n",
      "101/101 [==============================] - 950s 9s/step - loss: 0.9730 - accuracy: 0.5817 - val_loss: 0.9768 - val_accuracy: 0.5875\n",
      "Epoch 26/45\n",
      "101/101 [==============================] - 948s 9s/step - loss: 0.9682 - accuracy: 0.5841 - val_loss: 0.9903 - val_accuracy: 0.5882\n",
      "Epoch 27/45\n",
      "101/101 [==============================] - 949s 9s/step - loss: 0.9601 - accuracy: 0.5879 - val_loss: 1.0315 - val_accuracy: 0.5695\n",
      "Epoch 28/45\n",
      "101/101 [==============================] - 951s 9s/step - loss: 0.9606 - accuracy: 0.5868 - val_loss: 0.9488 - val_accuracy: 0.6058\n",
      "Epoch 29/45\n",
      "101/101 [==============================] - 953s 9s/step - loss: 0.9536 - accuracy: 0.5956 - val_loss: 0.9510 - val_accuracy: 0.6055\n",
      "Epoch 30/45\n",
      "101/101 [==============================] - 950s 9s/step - loss: 0.9480 - accuracy: 0.5963 - val_loss: 0.9802 - val_accuracy: 0.5920\n",
      "Epoch 31/45\n",
      "101/101 [==============================] - 949s 9s/step - loss: 0.9471 - accuracy: 0.5928 - val_loss: 1.0327 - val_accuracy: 0.5727\n",
      "Epoch 32/45\n",
      "101/101 [==============================] - 951s 9s/step - loss: 0.9528 - accuracy: 0.5941 - val_loss: 0.9659 - val_accuracy: 0.5950\n",
      "Epoch 33/45\n",
      "101/101 [==============================] - 950s 9s/step - loss: 0.9407 - accuracy: 0.5973 - val_loss: 0.9640 - val_accuracy: 0.5957\n",
      "Epoch 34/45\n",
      "101/101 [==============================] - 957s 9s/step - loss: 0.9350 - accuracy: 0.6028 - val_loss: 0.9463 - val_accuracy: 0.5980\n",
      "Epoch 35/45\n",
      "101/101 [==============================] - 955s 9s/step - loss: 0.9352 - accuracy: 0.5995 - val_loss: 0.9809 - val_accuracy: 0.5822\n",
      "Epoch 36/45\n",
      "101/101 [==============================] - 952s 9s/step - loss: 0.9278 - accuracy: 0.6058 - val_loss: 1.0391 - val_accuracy: 0.5660\n",
      "Epoch 37/45\n",
      "101/101 [==============================] - 1004s 10s/step - loss: 0.9250 - accuracy: 0.6019 - val_loss: 0.9566 - val_accuracy: 0.5985\n",
      "Epoch 38/45\n",
      "101/101 [==============================] - 1025s 10s/step - loss: 0.9192 - accuracy: 0.6097 - val_loss: 1.0227 - val_accuracy: 0.5830\n",
      "Epoch 39/45\n",
      "101/101 [==============================] - 1005s 10s/step - loss: 0.9186 - accuracy: 0.6103 - val_loss: 0.9545 - val_accuracy: 0.5978\n",
      "Epoch 40/45\n",
      "101/101 [==============================] - 1004s 10s/step - loss: 0.9122 - accuracy: 0.6118 - val_loss: 0.9609 - val_accuracy: 0.5970\n",
      "Epoch 41/45\n",
      "101/101 [==============================] - 995s 10s/step - loss: 0.9107 - accuracy: 0.6132 - val_loss: 1.0303 - val_accuracy: 0.5832\n",
      "Epoch 42/45\n",
      "101/101 [==============================] - 1102s 11s/step - loss: 0.9153 - accuracy: 0.6096 - val_loss: 0.9421 - val_accuracy: 0.6122\n",
      "Epoch 43/45\n",
      "101/101 [==============================] - 1111s 11s/step - loss: 0.9014 - accuracy: 0.6174 - val_loss: 0.9406 - val_accuracy: 0.6195\n",
      "Epoch 44/45\n",
      "101/101 [==============================] - 1097s 11s/step - loss: 0.9141 - accuracy: 0.6095 - val_loss: 0.9963 - val_accuracy: 0.5910\n",
      "Epoch 45/45\n",
      "101/101 [==============================] - 1097s 11s/step - loss: 0.9088 - accuracy: 0.6166 - val_loss: 0.9608 - val_accuracy: 0.6127\n"
     ]
    }
   ],
   "source": [
    "history = model.fit(\n",
    "    train_generator,  \n",
    "    epochs = 45, \n",
    "    validation_data = validation_generator) \n",
    "\n",
    "model.save('paintingstopAdam.h5')"
   ]
  },
  {
   "cell_type": "code",
   "execution_count": 12,
   "id": "familiar-accreditation",
   "metadata": {},
   "outputs": [
    {
     "data": {
      "image/png": "[encoded data removed]",
      "text/plain": [
       "<Figure size 432x288 with 1 Axes>"
      ]
     },
     "metadata": {
      "needs_background": "light"
     },
     "output_type": "display_data"
    },
    {
     "data": {
      "image/png": "[encoded data removed]",
      "text/plain": [
       "<Figure size 432x288 with 1 Axes>"
      ]
     },
     "metadata": {
      "needs_background": "light"
     },
     "output_type": "display_data"
    }
   ],
   "source": [
    "acc = history.history['accuracy']\n",
    "val_acc = history.history['val_accuracy']\n",
    "loss = history.history['loss']\n",
    "val_loss = history.history['val_loss']\n",
    "\n",
    "epochs = range(1, len(acc) + 1)\n",
    "\n",
    "plt.plot(epochs, acc, 'bo', label = 'Training acc')\n",
    "plt.plot(epochs, val_acc, 'b', label = 'Validation acc')\n",
    "plt.title('Training and validation accuracy')\n",
    "plt.legend()\n",
    "plt.figure()\n",
    "\n",
    "plt.plot(epochs, loss, 'bo', label = 'Training loss')\n",
    "plt.plot(epochs, val_loss, 'b', label = 'Validation loss')\n",
    "plt.title('Training and validation loss')\n",
    "plt.legend()\n",
    "\n",
    "plt.show()"
   ]
  },
  {
   "cell_type": "markdown",
   "id": "ordinary-reservation",
   "metadata": {},
   "source": [
    "## Predicting test images"
   ]
  },
  {
   "cell_type": "code",
   "execution_count": 103,
   "id": "macro-intent",
   "metadata": {},
   "outputs": [
    {
     "name": "stdout",
     "output_type": "stream",
     "text": [
      "Found 8766 images belonging to 4 classes.\n"
     ]
    }
   ],
   "source": [
    "test_datagen = ImageDataGenerator(rescale=1./255)\n",
    "\n",
    "test_generator = test_datagen.flow_from_directory(\n",
    "    test_data_dir,                \n",
    "    target_size=(150,150),         \n",
    "    batch_size = 246, \n",
    "    class_mode='categorical') \n",
    "\n",
    "modeltop= models.load_model('paintingstopAdam.h5')\n",
    "Y_pred = modeltop.predict(test_generator, math.ceil(len(test_generator.filenames) / 246))\n"
   ]
  },
  {
   "cell_type": "code",
   "execution_count": 117,
   "id": "sixth-score",
   "metadata": {},
   "outputs": [
    {
     "data": {
      "text/plain": [
       "array([0, 3, 3, ..., 1, 3, 3], dtype=int64)"
      ]
     },
     "execution_count": 117,
     "metadata": {},
     "output_type": "execute_result"
    }
   ],
   "source": [
    "pred_labels = np.argmax(Y_pred, axis = 1)\n",
    "pred_labels"
   ]
  },
  {
   "cell_type": "code",
   "execution_count": 119,
   "id": "authorized-burns",
   "metadata": {},
   "outputs": [
    {
     "data": {
      "text/plain": [
       "array([[0.8404234 , 0.10540193, 0.00477527, 0.04939937],\n",
       "       [0.11574452, 0.12478609, 0.35788167, 0.40158778],\n",
       "       [0.17997596, 0.2545046 , 0.14995584, 0.41556358],\n",
       "       ...,\n",
       "       [0.04218362, 0.6958151 , 0.16561513, 0.09638619],\n",
       "       [0.01395901, 0.40697145, 0.14983903, 0.42923045],\n",
       "       [0.07395226, 0.08230124, 0.26470423, 0.57904226]], dtype=float32)"
      ]
     },
     "execution_count": 119,
     "metadata": {},
     "output_type": "execute_result"
    }
   ],
   "source": [
    "Y_pred"
   ]
  },
  {
   "cell_type": "code",
   "execution_count": 120,
   "id": "informal-sherman",
   "metadata": {},
   "outputs": [
    {
     "name": "stdout",
     "output_type": "stream",
     "text": [
      "36/36 [==============================] - 199s 6s/step - loss: 0.9965 - accuracy: 0.5844\n"
     ]
    }
   ],
   "source": [
    "test_loss = modeltop.evaluate(test_generator)"
   ]
  },
  {
   "cell_type": "code",
   "execution_count": 133,
   "id": "casual-marketplace",
   "metadata": {},
   "outputs": [
    {
     "data": {
      "image/png": "[encoded data removed]",
      "text/plain": [
       "<Figure size 432x288 with 2 Axes>"
      ]
     },
     "metadata": {
      "needs_background": "light"
     },
     "output_type": "display_data"
    }
   ],
   "source": [
    "CM = confusion_matrix(test_generator.classes, pred_labels)\n",
    "target_names = ['Expressionism', 'Impressionism','Realism','Romanticism']\n",
    "ax = plt.axes()\n",
    "sn.heatmap(CM, cmap='rocket_r',\n",
    "           annot=True, \n",
    "           fmt='d',\n",
    "           xticklabels=target_names, \n",
    "           yticklabels=target_names, ax = ax)\n",
    "ax.set_title('Confusion matrix')\n",
    "plt.show()"
   ]
  }
 ],
 "metadata": {
  "kernelspec": {
   "display_name": "Python 3",
   "language": "python",
   "name": "python3"
  },
  "language_info": {
   "codemirror_mode": {
    "name": "ipython",
    "version": 3
   },
   "file_extension": ".py",
   "mimetype": "text/x-python",
   "name": "python",
   "nbconvert_exporter": "python",
   "pygments_lexer": "ipython3",
   "version": "3.8.5"
  }
 },
 "nbformat": 4,
 "nbformat_minor": 5
}
